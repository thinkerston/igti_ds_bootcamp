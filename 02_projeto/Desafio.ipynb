{
 "cells": [
  {
   "cell_type": "code",
   "execution_count": 15,
   "metadata": {},
   "outputs": [],
   "source": [
    "#desativando os warnings chatos\n",
    "import warnings\n",
    "warnings.filterwarnings(\"ignore\")"
   ]
  },
  {
   "cell_type": "code",
   "execution_count": 52,
   "metadata": {},
   "outputs": [],
   "source": [
    "\n",
    "import pandas as pd\n",
    "\n",
    "pd.set_option('max_columns', 99)"
   ]
  },
  {
   "cell_type": "code",
   "execution_count": 83,
   "metadata": {},
   "outputs": [],
   "source": [
    "import matplotlib.pyplot as plt\n",
    "import seaborn as sns\n",
    "plt.style.use('seaborn')"
   ]
  },
  {
   "cell_type": "code",
   "execution_count": 84,
   "metadata": {},
   "outputs": [],
   "source": [
    "#carregando os dados\n",
    "stackoverflow = pd.read_csv('datasets/survey_results_public.csv')\n",
    "#stackoverflow.fillna('N/A', inplace=True)"
   ]
  },
  {
   "cell_type": "markdown",
   "metadata": {},
   "source": [
    "### Pergunta 1\n",
    "Utilize o Power BI e o dataset das instruções do enunciado. Ao criar um gráfico de colunas com a média de salário (ConvertedComp) por formação (EdLevel), filtrando os dados da França, como fica o gráfico?"
   ]
  },
  {
   "cell_type": "code",
   "execution_count": 85,
   "metadata": {},
   "outputs": [],
   "source": [
    "#Criando um dataframe com  um grupo da coluna EdLevel e pegando o ConvertedComp e salvando em edLevel_salary\n",
    "edLevel_salary = pd.DataFrame(stackoverflow.groupby('EdLevel').count()['ConvertedComp'])"
   ]
  },
  {
   "cell_type": "code",
   "execution_count": 86,
   "metadata": {},
   "outputs": [
    {
     "data": {
      "text/html": [
       "<div>\n",
       "<style scoped>\n",
       "    .dataframe tbody tr th:only-of-type {\n",
       "        vertical-align: middle;\n",
       "    }\n",
       "\n",
       "    .dataframe tbody tr th {\n",
       "        vertical-align: top;\n",
       "    }\n",
       "\n",
       "    .dataframe thead th {\n",
       "        text-align: right;\n",
       "    }\n",
       "</style>\n",
       "<table border=\"1\" class=\"dataframe\">\n",
       "  <thead>\n",
       "    <tr style=\"text-align: right;\">\n",
       "      <th></th>\n",
       "      <th>ConvertedComp</th>\n",
       "    </tr>\n",
       "    <tr>\n",
       "      <th>EdLevel</th>\n",
       "      <th></th>\n",
       "    </tr>\n",
       "  </thead>\n",
       "  <tbody>\n",
       "    <tr>\n",
       "      <th>Bachelor’s degree (B.A., B.S., B.Eng., etc.)</th>\n",
       "      <td>16874</td>\n",
       "    </tr>\n",
       "    <tr>\n",
       "      <th>Master’s degree (M.A., M.S., M.Eng., MBA, etc.)</th>\n",
       "      <td>8668</td>\n",
       "    </tr>\n",
       "    <tr>\n",
       "      <th>Some college/university study without earning a degree</th>\n",
       "      <td>4086</td>\n",
       "    </tr>\n",
       "    <tr>\n",
       "      <th>Secondary school (e.g. American high school, German Realschule or Gymnasium, etc.)</th>\n",
       "      <td>1466</td>\n",
       "    </tr>\n",
       "    <tr>\n",
       "      <th>Associate degree (A.A., A.S., etc.)</th>\n",
       "      <td>1168</td>\n",
       "    </tr>\n",
       "    <tr>\n",
       "      <th>Other doctoral degree (Ph.D., Ed.D., etc.)</th>\n",
       "      <td>1142</td>\n",
       "    </tr>\n",
       "    <tr>\n",
       "      <th>Professional degree (JD, MD, etc.)</th>\n",
       "      <td>477</td>\n",
       "    </tr>\n",
       "    <tr>\n",
       "      <th>I never completed any formal education</th>\n",
       "      <td>154</td>\n",
       "    </tr>\n",
       "    <tr>\n",
       "      <th>Primary/elementary school</th>\n",
       "      <td>153</td>\n",
       "    </tr>\n",
       "  </tbody>\n",
       "</table>\n",
       "</div>"
      ],
      "text/plain": [
       "                                                    ConvertedComp\n",
       "EdLevel                                                          \n",
       "Bachelor’s degree (B.A., B.S., B.Eng., etc.)                16874\n",
       "Master’s degree (M.A., M.S., M.Eng., MBA, etc.)              8668\n",
       "Some college/university study without earning a...           4086\n",
       "Secondary school (e.g. American high school, Ge...           1466\n",
       "Associate degree (A.A., A.S., etc.)                          1168\n",
       "Other doctoral degree (Ph.D., Ed.D., etc.)                   1142\n",
       "Professional degree (JD, MD, etc.)                            477\n",
       "I never completed any formal education                        154\n",
       "Primary/elementary school                                     153"
      ]
     },
     "execution_count": 86,
     "metadata": {},
     "output_type": "execute_result"
    }
   ],
   "source": [
    "edLevel_salary.sort_values('ConvertedComp', ascending=False)"
   ]
  },
  {
   "cell_type": "code",
   "execution_count": 87,
   "metadata": {},
   "outputs": [],
   "source": [
    "edLevel_salary_sort = edLevel_salary.sort_values('ConvertedComp', ascending=False) #salvando os dados  organizados"
   ]
  },
  {
   "cell_type": "code",
   "execution_count": 88,
   "metadata": {},
   "outputs": [
    {
     "data": {
      "text/plain": [
       "(array([0, 1, 2, 3, 4, 5, 6, 7, 8]), <a list of 9 Text xticklabel objects>)"
      ]
     },
     "execution_count": 88,
     "metadata": {},
     "output_type": "execute_result"
    },
    {
     "data": {
      "image/png": "[encoded data removed]",
      "text/plain": [
       "<Figure size 1296x504 with 1 Axes>"
      ]
     },
     "metadata": {},
     "output_type": "display_data"
    }
   ],
   "source": [
    "plt.figure(figsize=(18, 7))\n",
    "sns.barplot(x=edLevel_salary_sort.index, y=edLevel_salary_sort['ConvertedComp'])\n",
    "\n",
    "plt.xticks(rotation=45) #rotacionando o grafico, se não fica uma bagunça só"
   ]
  },
  {
   "cell_type": "markdown",
   "metadata": {},
   "source": [
    "### Pergunta 2\n",
    "Utilize o Power BI e o dataset das instruções do enunciado. Ao criar um gráfico de colunas com a média de salário (ConvertedComp) por nível de satisfação (JobSat), filtrando os dados do Chile, como fica o gráfico?\n",
    "Grupo de escolhas da pergunta\n"
   ]
  },
  {
   "cell_type": "code",
   "execution_count": 89,
   "metadata": {},
   "outputs": [],
   "source": [
    "jobSat_salary = pd.DataFrame(stackoverflow.groupby('JobSat').count()['ConvertedComp'])"
   ]
  },
  {
   "cell_type": "code",
   "execution_count": 90,
   "metadata": {},
   "outputs": [
    {
     "data": {
      "text/html": [
       "<div>\n",
       "<style scoped>\n",
       "    .dataframe tbody tr th:only-of-type {\n",
       "        vertical-align: middle;\n",
       "    }\n",
       "\n",
       "    .dataframe tbody tr th {\n",
       "        vertical-align: top;\n",
       "    }\n",
       "\n",
       "    .dataframe thead th {\n",
       "        text-align: right;\n",
       "    }\n",
       "</style>\n",
       "<table border=\"1\" class=\"dataframe\">\n",
       "  <thead>\n",
       "    <tr style=\"text-align: right;\">\n",
       "      <th></th>\n",
       "      <th>ConvertedComp</th>\n",
       "    </tr>\n",
       "    <tr>\n",
       "      <th>JobSat</th>\n",
       "      <th></th>\n",
       "    </tr>\n",
       "  </thead>\n",
       "  <tbody>\n",
       "    <tr>\n",
       "      <th>Very satisfied</th>\n",
       "      <td>11312</td>\n",
       "    </tr>\n",
       "    <tr>\n",
       "      <th>Slightly satisfied</th>\n",
       "      <td>10785</td>\n",
       "    </tr>\n",
       "    <tr>\n",
       "      <th>Slightly dissatisfied</th>\n",
       "      <td>5746</td>\n",
       "    </tr>\n",
       "    <tr>\n",
       "      <th>Neither satisfied nor dissatisfied</th>\n",
       "      <td>4066</td>\n",
       "    </tr>\n",
       "    <tr>\n",
       "      <th>Very dissatisfied</th>\n",
       "      <td>2792</td>\n",
       "    </tr>\n",
       "  </tbody>\n",
       "</table>\n",
       "</div>"
      ],
      "text/plain": [
       "                                    ConvertedComp\n",
       "JobSat                                           \n",
       "Very satisfied                              11312\n",
       "Slightly satisfied                          10785\n",
       "Slightly dissatisfied                        5746\n",
       "Neither satisfied nor dissatisfied           4066\n",
       "Very dissatisfied                            2792"
      ]
     },
     "execution_count": 90,
     "metadata": {},
     "output_type": "execute_result"
    }
   ],
   "source": [
    "jobSat_salary.sort_values('ConvertedComp', ascending=False)"
   ]
  },
  {
   "cell_type": "code",
   "execution_count": 91,
   "metadata": {},
   "outputs": [],
   "source": [
    "jobSat_salarySort = jobSat_salary.sort_values('ConvertedComp', ascending=False)"
   ]
  },
  {
   "cell_type": "code",
   "execution_count": 92,
   "metadata": {},
   "outputs": [
    {
     "data": {
      "text/plain": [
       "(array([0, 1, 2, 3, 4]), <a list of 5 Text xticklabel objects>)"
      ]
     },
     "execution_count": 92,
     "metadata": {},
     "output_type": "execute_result"
    },
    {
     "data": {
      "image/png": "[encoded data removed]",
      "text/plain": [
       "<Figure size 1296x504 with 1 Axes>"
      ]
     },
     "metadata": {},
     "output_type": "display_data"
    }
   ],
   "source": [
    "plt.figure(figsize=(18, 7))\n",
    "sns.barplot(x=jobSat_salarySort.index, y=jobSat_salarySort['ConvertedComp'])\n",
    "\n",
    "plt.xticks(rotation=45) #rotacionando o grafico, se não fica uma bagunça só"
   ]
  },
  {
   "cell_type": "markdown",
   "metadata": {},
   "source": [
    "### Pergunta 3\n",
    "Utilize o Power BI e o dataset das instruções do enunciado. Crie um gráfico para analisar o uso dos Sistemas Operacionais (OpSys). Qual a Sistema Operacional mais usado na França?"
   ]
  },
  {
   "cell_type": "code",
   "execution_count": 93,
   "metadata": {},
   "outputs": [],
   "source": [
    "france_sysOp = pd.DataFrame(france_stackoverflow.groupby('OpSys').count()['Respondent'].sort_values(ascending=False))"
   ]
  },
  {
   "cell_type": "code",
   "execution_count": 94,
   "metadata": {},
   "outputs": [
    {
     "data": {
      "text/html": [
       "<div>\n",
       "<style scoped>\n",
       "    .dataframe tbody tr th:only-of-type {\n",
       "        vertical-align: middle;\n",
       "    }\n",
       "\n",
       "    .dataframe tbody tr th {\n",
       "        vertical-align: top;\n",
       "    }\n",
       "\n",
       "    .dataframe thead th {\n",
       "        text-align: right;\n",
       "    }\n",
       "</style>\n",
       "<table border=\"1\" class=\"dataframe\">\n",
       "  <thead>\n",
       "    <tr style=\"text-align: right;\">\n",
       "      <th></th>\n",
       "      <th>Respondent</th>\n",
       "    </tr>\n",
       "    <tr>\n",
       "      <th>OpSys</th>\n",
       "      <th></th>\n",
       "    </tr>\n",
       "  </thead>\n",
       "  <tbody>\n",
       "    <tr>\n",
       "      <th>Linux-based</th>\n",
       "      <td>700</td>\n",
       "    </tr>\n",
       "    <tr>\n",
       "      <th>Windows</th>\n",
       "      <td>658</td>\n",
       "    </tr>\n",
       "    <tr>\n",
       "      <th>MacOS</th>\n",
       "      <td>336</td>\n",
       "    </tr>\n",
       "  </tbody>\n",
       "</table>\n",
       "</div>"
      ],
      "text/plain": [
       "             Respondent\n",
       "OpSys                  \n",
       "Linux-based         700\n",
       "Windows             658\n",
       "MacOS               336"
      ]
     },
     "execution_count": 94,
     "metadata": {},
     "output_type": "execute_result"
    }
   ],
   "source": [
    "france_sysOp"
   ]
  },
  {
   "cell_type": "code",
   "execution_count": 95,
   "metadata": {},
   "outputs": [
    {
     "data": {
      "text/plain": [
       "<matplotlib.axes._subplots.AxesSubplot at 0x7fb50aadd310>"
      ]
     },
     "execution_count": 95,
     "metadata": {},
     "output_type": "execute_result"
    },
    {
     "data": {
      "image/png": "[encoded data removed]",
      "text/plain": [
       "<Figure size 576x396 with 1 Axes>"
      ]
     },
     "metadata": {},
     "output_type": "display_data"
    }
   ],
   "source": [
    "sns.barplot(x=france_sysOp.index, y=france_sysOp.Respondent)"
   ]
  },
  {
   "cell_type": "markdown",
   "metadata": {},
   "source": [
    "### Pergunta 4\n",
    "Utilize o Power BI e o dataset das instruções do enunciado. Crie um gráfico de dispersão com a idade (Age) e a média de salário por idade (ConvertedComp). Filtre por Albânia e adicione uma linha de tendência. Analisando a linha de tendência, podemos afirmar que à medida que a idade aumenta, o salário:"
   ]
  },
  {
   "cell_type": "code",
   "execution_count": 96,
   "metadata": {},
   "outputs": [],
   "source": [
    "albania_stack = stackoverflow[stackoverflow['Country'] == 'Albania']"
   ]
  },
  {
   "cell_type": "code",
   "execution_count": null,
   "metadata": {},
   "outputs": [],
   "source": [
    "albania_age_mean_Salary = pd.DataFrame(albania_stack.groupby('Age').mean()['ConvertedComp'])"
   ]
  },
  {
   "cell_type": "code",
   "execution_count": 129,
   "metadata": {},
   "outputs": [
    {
     "data": {
      "text/plain": [
       "<matplotlib.axes._subplots.AxesSubplot at 0x7fb5081cda50>"
      ]
     },
     "execution_count": 129,
     "metadata": {},
     "output_type": "execute_result"
    },
    {
     "data": {
      "image/png": "[encoded data removed]",
      "text/plain": [
       "<Figure size 576x396 with 1 Axes>"
      ]
     },
     "metadata": {},
     "output_type": "display_data"
    }
   ],
   "source": [
    "#plotando a linha de Tendencia\n",
    "sns.regplot(x=albania_age_mean_Salary.index, y=albania_age_mean_Salary['ConvertedComp'],color=\"g\")"
   ]
  },
  {
   "cell_type": "markdown",
   "metadata": {},
   "source": [
    "#### pergunta 5\n",
    "Utilize o Power BI e o dataset das instruções do enunciado.\n",
    "Crie um cartão para visualizar a média e outro para visualizar a mediana do salário (ConvertedComp) no Brasil. Qual o valor da média e mediana, respectivamente?"
   ]
  },
  {
   "cell_type": "code",
   "execution_count": 131,
   "metadata": {},
   "outputs": [],
   "source": [
    "brazil_stack = stackoverflow[stackoverflow['Country'] == 'Brazil'] #filtrando os  dados do Brasil"
   ]
  },
  {
   "cell_type": "code",
   "execution_count": 142,
   "metadata": {},
   "outputs": [],
   "source": [
    "\n",
    "#brazil_salary_nonull = brazil_stack['ConvertedComp'].dropna(axis=0)\n",
    "#Achei estranho o resultado não bater com as questões, fiz a limpeza dos nulos para ver teria diferença"
   ]
  },
  {
   "cell_type": "code",
   "execution_count": 144,
   "metadata": {},
   "outputs": [
    {
     "data": {
      "text/plain": [
       "24941.354364736388"
      ]
     },
     "execution_count": 144,
     "metadata": {},
     "output_type": "execute_result"
    }
   ],
   "source": [
    "brazil_stack['ConvertedComp'].mean() # Média dos salarios"
   ]
  },
  {
   "cell_type": "code",
   "execution_count": 148,
   "metadata": {},
   "outputs": [
    {
     "data": {
      "text/plain": [
       "17184.0"
      ]
     },
     "execution_count": 148,
     "metadata": {},
     "output_type": "execute_result"
    }
   ],
   "source": [
    "brazil_stack['ConvertedComp'].median() # Mediana dos salarios"
   ]
  },
  {
   "cell_type": "markdown",
   "metadata": {},
   "source": [
    "### pergunta 6\n",
    "Utilize o Power BI e o dataset das instruções do enunciado. Crie um gráfico para analisar o nível de formação dos desenvolvedores (EdLevel). Aplicando um filtro que remove apenas os registros dos Estados Unidos, qual é o país com maior número de desenvolvedores que nunca tiveram uma educação formal?"
   ]
  },
  {
   "cell_type": "code",
   "execution_count": 152,
   "metadata": {},
   "outputs": [],
   "source": [
    "#removendo os Estados Unidos\n",
    "stack_noEUA = stackoverflow[stackoverflow != 'United States']"
   ]
  },
  {
   "cell_type": "code",
   "execution_count": 155,
   "metadata": {},
   "outputs": [
    {
     "data": {
      "text/plain": [
       "Bachelor’s degree (B.A., B.S., B.Eng., etc.)                                          26542\n",
       "Master’s degree (M.A., M.S., M.Eng., MBA, etc.)                                       13112\n",
       "Some college/university study without earning a degree                                 7239\n",
       "Secondary school (e.g. American high school, German Realschule or Gymnasium, etc.)     4771\n",
       "Associate degree (A.A., A.S., etc.)                                                    1843\n",
       "Other doctoral degree (Ph.D., Ed.D., etc.)                                             1690\n",
       "Primary/elementary school                                                               941\n",
       "Professional degree (JD, MD, etc.)                                                      800\n",
       "I never completed any formal education                                                  493\n",
       "Name: EdLevel, dtype: int64"
      ]
     },
     "execution_count": 155,
     "metadata": {},
     "output_type": "execute_result"
    }
   ],
   "source": [
    "stack_noEUA['EdLevel'].value_counts()"
   ]
  },
  {
   "cell_type": "code",
   "execution_count": 157,
   "metadata": {},
   "outputs": [],
   "source": [
    "noFormalEd = stack_noEUA[stack_noEUA['EdLevel'] == 'I never completed any formal education']"
   ]
  },
  {
   "cell_type": "code",
   "execution_count": 158,
   "metadata": {},
   "outputs": [
    {
     "data": {
      "text/plain": [
       "India                                        56\n",
       "Israel                                       22\n",
       "Indonesia                                    17\n",
       "United Kingdom                               17\n",
       "Bangladesh                                   14\n",
       "                                             ..\n",
       "Latvia                                        1\n",
       "Nepal                                         1\n",
       "Yemen                                         1\n",
       "The former Yugoslav Republic of Macedonia     1\n",
       "Djibouti                                      1\n",
       "Name: Country, Length: 97, dtype: int64"
      ]
     },
     "execution_count": 158,
     "metadata": {},
     "output_type": "execute_result"
    }
   ],
   "source": [
    "noFormalEd['Country'].value_counts()"
   ]
  },
  {
   "cell_type": "code",
   "execution_count": 186,
   "metadata": {},
   "outputs": [
    {
     "data": {
      "text/html": [
       "<div>\n",
       "<style scoped>\n",
       "    .dataframe tbody tr th:only-of-type {\n",
       "        vertical-align: middle;\n",
       "    }\n",
       "\n",
       "    .dataframe tbody tr th {\n",
       "        vertical-align: top;\n",
       "    }\n",
       "\n",
       "    .dataframe thead th {\n",
       "        text-align: right;\n",
       "    }\n",
       "</style>\n",
       "<table border=\"1\" class=\"dataframe\">\n",
       "  <thead>\n",
       "    <tr style=\"text-align: right;\">\n",
       "      <th></th>\n",
       "      <th>Country</th>\n",
       "      <th>values</th>\n",
       "    </tr>\n",
       "  </thead>\n",
       "  <tbody>\n",
       "    <tr>\n",
       "      <th>0</th>\n",
       "      <td>India</td>\n",
       "      <td>56</td>\n",
       "    </tr>\n",
       "    <tr>\n",
       "      <th>1</th>\n",
       "      <td>Israel</td>\n",
       "      <td>22</td>\n",
       "    </tr>\n",
       "    <tr>\n",
       "      <th>2</th>\n",
       "      <td>Indonesia</td>\n",
       "      <td>17</td>\n",
       "    </tr>\n",
       "    <tr>\n",
       "      <th>3</th>\n",
       "      <td>United Kingdom</td>\n",
       "      <td>17</td>\n",
       "    </tr>\n",
       "    <tr>\n",
       "      <th>4</th>\n",
       "      <td>Bangladesh</td>\n",
       "      <td>14</td>\n",
       "    </tr>\n",
       "    <tr>\n",
       "      <th>...</th>\n",
       "      <td>...</td>\n",
       "      <td>...</td>\n",
       "    </tr>\n",
       "    <tr>\n",
       "      <th>92</th>\n",
       "      <td>Latvia</td>\n",
       "      <td>1</td>\n",
       "    </tr>\n",
       "    <tr>\n",
       "      <th>93</th>\n",
       "      <td>Nepal</td>\n",
       "      <td>1</td>\n",
       "    </tr>\n",
       "    <tr>\n",
       "      <th>94</th>\n",
       "      <td>Yemen</td>\n",
       "      <td>1</td>\n",
       "    </tr>\n",
       "    <tr>\n",
       "      <th>95</th>\n",
       "      <td>The former Yugoslav Republic of Macedonia</td>\n",
       "      <td>1</td>\n",
       "    </tr>\n",
       "    <tr>\n",
       "      <th>96</th>\n",
       "      <td>Djibouti</td>\n",
       "      <td>1</td>\n",
       "    </tr>\n",
       "  </tbody>\n",
       "</table>\n",
       "<p>97 rows × 2 columns</p>\n",
       "</div>"
      ],
      "text/plain": [
       "                                      Country  values\n",
       "0                                       India      56\n",
       "1                                      Israel      22\n",
       "2                                   Indonesia      17\n",
       "3                              United Kingdom      17\n",
       "4                                  Bangladesh      14\n",
       "..                                        ...     ...\n",
       "92                                     Latvia       1\n",
       "93                                      Nepal       1\n",
       "94                                      Yemen       1\n",
       "95  The former Yugoslav Republic of Macedonia       1\n",
       "96                                   Djibouti       1\n",
       "\n",
       "[97 rows x 2 columns]"
      ]
     },
     "execution_count": 186,
     "metadata": {},
     "output_type": "execute_result"
    }
   ],
   "source": [
    "noFormal_df = pd.DataFrame(noFormalEd['Country'].value_counts()).reset_index()\n",
    "noFormal_df.columns = ['Country', 'values'] #renomeando as colunas\n",
    "noFormal_df"
   ]
  },
  {
   "cell_type": "code",
   "execution_count": 195,
   "metadata": {},
   "outputs": [
    {
     "data": {
      "image/png": "[encoded data removed]",
      "text/plain": [
       "<Figure size 720x504 with 1 Axes>"
      ]
     },
     "metadata": {},
     "output_type": "display_data"
    }
   ],
   "source": [
    "plt.figure(figsize=(10, 7))\n",
    "sns.barplot(x='Country', y='values', data=noFormal_df.head(10)) #resolvi pegar apenas 10 primeiros registros\n",
    "plt.xticks(rotation=45) #rotacionando o grafico, se não fica uma bagunça só\n",
    "\n",
    "plt.show()"
   ]
  },
  {
   "cell_type": "markdown",
   "metadata": {},
   "source": [
    "### pergunta 7\n",
    "\n",
    "Utilize o Power BI e o dataset das instruções do enunciado. Crie um gráfico de forma que consiga visualizar quando os desenvolvedores começaram a trabalhar na área (Age1stCode). Com que idade a maioria das pessoas começa a programar no Brasil?"
   ]
  },
  {
   "cell_type": "code",
   "execution_count": 196,
   "metadata": {},
   "outputs": [],
   "source": [
    "brazil_stack = stackoverflow[stackoverflow['Country'] == 'Brazil']"
   ]
  },
  {
   "cell_type": "code",
   "execution_count": 200,
   "metadata": {},
   "outputs": [],
   "source": [
    "brazil_age1stCode  = brazil_stack.groupby('Age1stCode').count()['Respondent'].reset_index()"
   ]
  },
  {
   "cell_type": "code",
   "execution_count": 206,
   "metadata": {},
   "outputs": [
    {
     "data": {
      "image/png": "[encoded data removed]",
      "text/plain": [
       "<Figure size 936x504 with 1 Axes>"
      ]
     },
     "metadata": {},
     "output_type": "display_data"
    }
   ],
   "source": [
    "plt.figure(figsize=(13, 7))\n",
    "sns.barplot(x='Age1stCode', y='Respondent', data=brazil_age1stCode)\n",
    "plt.show()"
   ]
  },
  {
   "cell_type": "markdown",
   "metadata": {},
   "source": [
    "## Agora partiremos para o Banco de dados"
   ]
  },
  {
   "cell_type": "code",
   "execution_count": null,
   "metadata": {},
   "outputs": [],
   "source": [
    "import sqlalchemy\n",
    "import pymysql"
   ]
  },
  {
   "cell_type": "code",
   "execution_count": 39,
   "metadata": {},
   "outputs": [],
   "source": [
    "con  = sqlalchemy.create_engine('sqlite:///file.sql')"
   ]
  },
  {
   "cell_type": "code",
   "execution_count": 98,
   "metadata": {},
   "outputs": [],
   "source": [
    "\n",
    "# Create an engine to the baseql database\n",
    "# carregando a base de dados em sql\n",
    "engine = sqlalchemy.create_engine('mysql+pymysql://root@127.0.0.1:3307/baseql')\n",
    "# essa parte do codigo pode ser que não funcione na sua maquina, pois precisa do servidor mysql estar instalado\n",
    "# e a database tem que ter o mesmo nome nesse caso \"baseql\" (criatividade passou longe)\n",
    "\n",
    "# conectando com o localhost\n",
    "con = engine.connect() \n"
   ]
  },
  {
   "cell_type": "code",
   "execution_count": 100,
   "metadata": {},
   "outputs": [
    {
     "name": "stdout",
     "output_type": "stream",
     "text": [
      "['DEPARTAMENTO', 'DEPENDENTE', 'DEPTO_LOCALIZACOES', 'EMPREGADO', 'PROJETO', 'TRABALHA_EM']\n"
     ]
    }
   ],
   "source": [
    "# Print the table names\n",
    "print(engine.table_names())\n"
   ]
  },
  {
   "cell_type": "code",
   "execution_count": 105,
   "metadata": {},
   "outputs": [],
   "source": [
    "departamento = pd.read_sql_table('DEPARTAMENTO', con) # carregando a Tabela departamento do base de dados \n",
    "departamento.to_csv('datasets/departamento.csv', index=None)  # salvando como csv\n",
    "\n",
    "dependente = pd.read_sql_table('DEPENDENTE', con) # carregando a Tabela departamento do base de dados \n",
    "dependente.to_csv('datasets/dependente.csv', index=None)  # salvando como csv\n",
    "\n",
    "depto_loc = pd.read_sql_table('DEPTO_LOCALIZACOES', con) # carregando a Tabela departamento do base de dados \n",
    "depto_loc.to_csv('datasets/depto_localizacoes.csv', index=None)  # salvando como csv\n",
    "\n",
    "empregado = pd.read_sql_table('EMPREGADO', con) # carregando a Tabela departamento do base de dados \n",
    "empregado.to_csv('datasets/empregado.csv', index=None)  # salvando como csv\n",
    "\n",
    "projeto = pd.read_sql_table('PROJETO', con) # carregando a Tabela departamento do base de dados \n",
    "projeto.to_csv('datasets/projeto.csv', index=None)  # salvando como csv\n",
    "\n",
    "trabalha_em = pd.read_sql_table('TRABALHA_EM', con) # carregando a Tabela departamento do base de dados \n",
    "trabalha_em.to_csv('datasets/trabalha_em.csv', index=None)  # salvando como csv"
   ]
  },
  {
   "cell_type": "code",
   "execution_count": 247,
   "metadata": {},
   "outputs": [],
   "source": [
    "departamento = pd.read_csv('datasets/departamento.csv') #carregando o csv DEPARTAMENTO\n",
    "dependente = pd.read_csv('datasets/dependente.csv') #carregando o csv DEPENDENTE\n",
    "depto_loc = pd.read_csv('datasets/depto_localizacoes.csv') #carregando o csv DEPTO_LOCALIZACOES\n",
    "empregado = pd.read_csv('datasets/empregado.csv') #carregando o csv EMPREGADO\n",
    "projeto = pd.read_csv('datasets/projeto.csv') #carregando o csv PROJETO\n",
    "trabalha_em = pd.read_csv('datasets/trabalha_em.csv') # carregando TRABALHA_EM\n",
    "\n",
    "#lista_de_datasets = [departamento, dependente, depto_loc, empregado, projeto, trabalha_em]"
   ]
  },
  {
   "cell_type": "markdown",
   "metadata": {},
   "source": [
    "### pergunta 8\n",
    "Considere o banco de dados do enunciado. Crie uma consulta em SQL e responda: Qual a média salarial nessa empresa?"
   ]
  },
  {
   "cell_type": "code",
   "execution_count": 210,
   "metadata": {},
   "outputs": [
    {
     "data": {
      "text/html": [
       "<div>\n",
       "<style scoped>\n",
       "    .dataframe tbody tr th:only-of-type {\n",
       "        vertical-align: middle;\n",
       "    }\n",
       "\n",
       "    .dataframe tbody tr th {\n",
       "        vertical-align: top;\n",
       "    }\n",
       "\n",
       "    .dataframe thead th {\n",
       "        text-align: right;\n",
       "    }\n",
       "</style>\n",
       "<table border=\"1\" class=\"dataframe\">\n",
       "  <thead>\n",
       "    <tr style=\"text-align: right;\">\n",
       "      <th></th>\n",
       "      <th>PNOME</th>\n",
       "      <th>MINICIAL</th>\n",
       "      <th>UNOME</th>\n",
       "      <th>SSN</th>\n",
       "      <th>DATANASC</th>\n",
       "      <th>ENDERECO</th>\n",
       "      <th>SEXO</th>\n",
       "      <th>SALARIO</th>\n",
       "      <th>SUPERSSN</th>\n",
       "      <th>DNO</th>\n",
       "    </tr>\n",
       "  </thead>\n",
       "  <tbody>\n",
       "    <tr>\n",
       "      <th>0</th>\n",
       "      <td>John</td>\n",
       "      <td>B</td>\n",
       "      <td>Smith</td>\n",
       "      <td>123456789</td>\n",
       "      <td>1955-01-09</td>\n",
       "      <td>731 Fondren, Houston, TX</td>\n",
       "      <td>M</td>\n",
       "      <td>30000.0</td>\n",
       "      <td>987654321.0</td>\n",
       "      <td>5</td>\n",
       "    </tr>\n",
       "    <tr>\n",
       "      <th>1</th>\n",
       "      <td>Franklin</td>\n",
       "      <td>T</td>\n",
       "      <td>Wong</td>\n",
       "      <td>333445555</td>\n",
       "      <td>1945-12-08</td>\n",
       "      <td>638 Voss, Houston, TX</td>\n",
       "      <td>M</td>\n",
       "      <td>40000.0</td>\n",
       "      <td>888665555.0</td>\n",
       "      <td>5</td>\n",
       "    </tr>\n",
       "    <tr>\n",
       "      <th>2</th>\n",
       "      <td>Joyce</td>\n",
       "      <td>A</td>\n",
       "      <td>English</td>\n",
       "      <td>453453453</td>\n",
       "      <td>1962-12-31</td>\n",
       "      <td>5631 Rice, Houston, TX</td>\n",
       "      <td>F</td>\n",
       "      <td>25000.0</td>\n",
       "      <td>333445555.0</td>\n",
       "      <td>5</td>\n",
       "    </tr>\n",
       "    <tr>\n",
       "      <th>3</th>\n",
       "      <td>Ramesh</td>\n",
       "      <td>K</td>\n",
       "      <td>Narayan</td>\n",
       "      <td>666884444</td>\n",
       "      <td>1952-09-15</td>\n",
       "      <td>Fire Oak, Humble, TX</td>\n",
       "      <td>M</td>\n",
       "      <td>38000.0</td>\n",
       "      <td>333445555.0</td>\n",
       "      <td>5</td>\n",
       "    </tr>\n",
       "    <tr>\n",
       "      <th>4</th>\n",
       "      <td>James</td>\n",
       "      <td>E</td>\n",
       "      <td>Borg</td>\n",
       "      <td>888665555</td>\n",
       "      <td>1927-11-10</td>\n",
       "      <td>Stone, Houston, TX</td>\n",
       "      <td>M</td>\n",
       "      <td>55000.0</td>\n",
       "      <td>NaN</td>\n",
       "      <td>1</td>\n",
       "    </tr>\n",
       "  </tbody>\n",
       "</table>\n",
       "</div>"
      ],
      "text/plain": [
       "      PNOME MINICIAL    UNOME        SSN    DATANASC  \\\n",
       "0      John        B    Smith  123456789  1955-01-09   \n",
       "1  Franklin        T     Wong  333445555  1945-12-08   \n",
       "2     Joyce        A  English  453453453  1962-12-31   \n",
       "3    Ramesh        K  Narayan  666884444  1952-09-15   \n",
       "4     James        E     Borg  888665555  1927-11-10   \n",
       "\n",
       "                   ENDERECO SEXO  SALARIO     SUPERSSN  DNO  \n",
       "0  731 Fondren, Houston, TX    M  30000.0  987654321.0    5  \n",
       "1     638 Voss, Houston, TX    M  40000.0  888665555.0    5  \n",
       "2    5631 Rice, Houston, TX    F  25000.0  333445555.0    5  \n",
       "3      Fire Oak, Humble, TX    M  38000.0  333445555.0    5  \n",
       "4        Stone, Houston, TX    M  55000.0          NaN    1  "
      ]
     },
     "execution_count": 210,
     "metadata": {},
     "output_type": "execute_result"
    }
   ],
   "source": [
    "empregado.head()"
   ]
  },
  {
   "cell_type": "code",
   "execution_count": 213,
   "metadata": {},
   "outputs": [
    {
     "data": {
      "text/plain": [
       "35125.0"
      ]
     },
     "execution_count": 213,
     "metadata": {},
     "output_type": "execute_result"
    }
   ],
   "source": [
    "empregado['SALARIO'].mean()\n",
    "\n",
    "#Em SQL essa consultaria ficaria:\n",
    "#SELECT AVG(SALARIO) FROM EMPREGADO "
   ]
  },
  {
   "cell_type": "markdown",
   "metadata": {},
   "source": [
    "#### Pergunta 9\n",
    "Considere o banco de dados do enunciado. Crie uma consulta em SQL e responda: Quantos empregados do departamento 5 trabalham mais de 10h por semana no projeto chamado \"ProductX\"?\n",
    "Grupo de escolhas da pergunta\n"
   ]
  },
  {
   "cell_type": "code",
   "execution_count": 232,
   "metadata": {},
   "outputs": [],
   "source": [
    "workers_projects = empregado.join(trabalha_em.set_index(\"ESSN\"), on='SSN').join(projeto.set_index('PNUMERO'), on='PNO')"
   ]
  },
  {
   "cell_type": "code",
   "execution_count": 234,
   "metadata": {},
   "outputs": [
    {
     "data": {
      "text/html": [
       "<div>\n",
       "<style scoped>\n",
       "    .dataframe tbody tr th:only-of-type {\n",
       "        vertical-align: middle;\n",
       "    }\n",
       "\n",
       "    .dataframe tbody tr th {\n",
       "        vertical-align: top;\n",
       "    }\n",
       "\n",
       "    .dataframe thead th {\n",
       "        text-align: right;\n",
       "    }\n",
       "</style>\n",
       "<table border=\"1\" class=\"dataframe\">\n",
       "  <thead>\n",
       "    <tr style=\"text-align: right;\">\n",
       "      <th></th>\n",
       "      <th>PNOME</th>\n",
       "      <th>MINICIAL</th>\n",
       "      <th>UNOME</th>\n",
       "      <th>SSN</th>\n",
       "      <th>DATANASC</th>\n",
       "      <th>ENDERECO</th>\n",
       "      <th>SEXO</th>\n",
       "      <th>SALARIO</th>\n",
       "      <th>SUPERSSN</th>\n",
       "      <th>DNO</th>\n",
       "      <th>PNO</th>\n",
       "      <th>HORAS</th>\n",
       "      <th>PJNOME</th>\n",
       "      <th>PLOCALIZACAO</th>\n",
       "      <th>DNUM</th>\n",
       "    </tr>\n",
       "  </thead>\n",
       "  <tbody>\n",
       "    <tr>\n",
       "      <th>1</th>\n",
       "      <td>Franklin</td>\n",
       "      <td>T</td>\n",
       "      <td>Wong</td>\n",
       "      <td>333445555</td>\n",
       "      <td>1945-12-08</td>\n",
       "      <td>638 Voss, Houston, TX</td>\n",
       "      <td>M</td>\n",
       "      <td>40000.0</td>\n",
       "      <td>888665555.0</td>\n",
       "      <td>5</td>\n",
       "      <td>2</td>\n",
       "      <td>10.0</td>\n",
       "      <td>ProductY</td>\n",
       "      <td>Sugarland</td>\n",
       "      <td>5</td>\n",
       "    </tr>\n",
       "    <tr>\n",
       "      <th>7</th>\n",
       "      <td>Alicia</td>\n",
       "      <td>J</td>\n",
       "      <td>Zelaya</td>\n",
       "      <td>999887777</td>\n",
       "      <td>1958-06-19</td>\n",
       "      <td>Castle, SPring, TX</td>\n",
       "      <td>F</td>\n",
       "      <td>25000.0</td>\n",
       "      <td>987654321.0</td>\n",
       "      <td>4</td>\n",
       "      <td>30</td>\n",
       "      <td>30.0</td>\n",
       "      <td>Newbenefits</td>\n",
       "      <td>Stafford</td>\n",
       "      <td>4</td>\n",
       "    </tr>\n",
       "    <tr>\n",
       "      <th>6</th>\n",
       "      <td>Ahmad</td>\n",
       "      <td>V</td>\n",
       "      <td>Jabbar</td>\n",
       "      <td>987987987</td>\n",
       "      <td>1959-03-29</td>\n",
       "      <td>Dallas, Houston, TX</td>\n",
       "      <td>M</td>\n",
       "      <td>25000.0</td>\n",
       "      <td>987654321.0</td>\n",
       "      <td>4</td>\n",
       "      <td>10</td>\n",
       "      <td>35.0</td>\n",
       "      <td>Computerization</td>\n",
       "      <td>Stafford</td>\n",
       "      <td>4</td>\n",
       "    </tr>\n",
       "    <tr>\n",
       "      <th>0</th>\n",
       "      <td>John</td>\n",
       "      <td>B</td>\n",
       "      <td>Smith</td>\n",
       "      <td>123456789</td>\n",
       "      <td>1955-01-09</td>\n",
       "      <td>731 Fondren, Houston, TX</td>\n",
       "      <td>M</td>\n",
       "      <td>30000.0</td>\n",
       "      <td>987654321.0</td>\n",
       "      <td>5</td>\n",
       "      <td>2</td>\n",
       "      <td>7.5</td>\n",
       "      <td>ProductY</td>\n",
       "      <td>Sugarland</td>\n",
       "      <td>5</td>\n",
       "    </tr>\n",
       "    <tr>\n",
       "      <th>3</th>\n",
       "      <td>Ramesh</td>\n",
       "      <td>K</td>\n",
       "      <td>Narayan</td>\n",
       "      <td>666884444</td>\n",
       "      <td>1952-09-15</td>\n",
       "      <td>Fire Oak, Humble, TX</td>\n",
       "      <td>M</td>\n",
       "      <td>38000.0</td>\n",
       "      <td>333445555.0</td>\n",
       "      <td>5</td>\n",
       "      <td>3</td>\n",
       "      <td>40.0</td>\n",
       "      <td>ProductZ</td>\n",
       "      <td>Houston</td>\n",
       "      <td>5</td>\n",
       "    </tr>\n",
       "  </tbody>\n",
       "</table>\n",
       "</div>"
      ],
      "text/plain": [
       "      PNOME MINICIAL    UNOME        SSN    DATANASC  \\\n",
       "1  Franklin        T     Wong  333445555  1945-12-08   \n",
       "7    Alicia        J   Zelaya  999887777  1958-06-19   \n",
       "6     Ahmad        V   Jabbar  987987987  1959-03-29   \n",
       "0      John        B    Smith  123456789  1955-01-09   \n",
       "3    Ramesh        K  Narayan  666884444  1952-09-15   \n",
       "\n",
       "                   ENDERECO SEXO  SALARIO     SUPERSSN  DNO  PNO  HORAS  \\\n",
       "1     638 Voss, Houston, TX    M  40000.0  888665555.0    5    2   10.0   \n",
       "7        Castle, SPring, TX    F  25000.0  987654321.0    4   30   30.0   \n",
       "6       Dallas, Houston, TX    M  25000.0  987654321.0    4   10   35.0   \n",
       "0  731 Fondren, Houston, TX    M  30000.0  987654321.0    5    2    7.5   \n",
       "3      Fire Oak, Humble, TX    M  38000.0  333445555.0    5    3   40.0   \n",
       "\n",
       "            PJNOME PLOCALIZACAO  DNUM  \n",
       "1         ProductY    Sugarland     5  \n",
       "7      Newbenefits     Stafford     4  \n",
       "6  Computerization     Stafford     4  \n",
       "0         ProductY    Sugarland     5  \n",
       "3         ProductZ      Houston     5  "
      ]
     },
     "execution_count": 234,
     "metadata": {},
     "output_type": "execute_result"
    }
   ],
   "source": [
    "workers_projects.sample(5)"
   ]
  },
  {
   "cell_type": "code",
   "execution_count": 239,
   "metadata": {},
   "outputs": [],
   "source": [
    "dpto_5 = workers_projects[workers_projects[\"DNO\"] == 5]"
   ]
  },
  {
   "cell_type": "code",
   "execution_count": 240,
   "metadata": {},
   "outputs": [],
   "source": [
    "above_10hr = workers_projects[workers_projects['HORAS'] > 10]"
   ]
  },
  {
   "cell_type": "code",
   "execution_count": 242,
   "metadata": {},
   "outputs": [],
   "source": [
    "eqPrjtX = above_10hr[above_10hr['PJNOME'] == 'ProductX']"
   ]
  },
  {
   "cell_type": "code",
   "execution_count": 243,
   "metadata": {},
   "outputs": [
    {
     "data": {
      "text/html": [
       "<div>\n",
       "<style scoped>\n",
       "    .dataframe tbody tr th:only-of-type {\n",
       "        vertical-align: middle;\n",
       "    }\n",
       "\n",
       "    .dataframe tbody tr th {\n",
       "        vertical-align: top;\n",
       "    }\n",
       "\n",
       "    .dataframe thead th {\n",
       "        text-align: right;\n",
       "    }\n",
       "</style>\n",
       "<table border=\"1\" class=\"dataframe\">\n",
       "  <thead>\n",
       "    <tr style=\"text-align: right;\">\n",
       "      <th></th>\n",
       "      <th>PNOME</th>\n",
       "      <th>MINICIAL</th>\n",
       "      <th>UNOME</th>\n",
       "      <th>SSN</th>\n",
       "      <th>DATANASC</th>\n",
       "      <th>ENDERECO</th>\n",
       "      <th>SEXO</th>\n",
       "      <th>SALARIO</th>\n",
       "      <th>SUPERSSN</th>\n",
       "      <th>DNO</th>\n",
       "      <th>PNO</th>\n",
       "      <th>HORAS</th>\n",
       "      <th>PJNOME</th>\n",
       "      <th>PLOCALIZACAO</th>\n",
       "      <th>DNUM</th>\n",
       "    </tr>\n",
       "  </thead>\n",
       "  <tbody>\n",
       "    <tr>\n",
       "      <th>0</th>\n",
       "      <td>John</td>\n",
       "      <td>B</td>\n",
       "      <td>Smith</td>\n",
       "      <td>123456789</td>\n",
       "      <td>1955-01-09</td>\n",
       "      <td>731 Fondren, Houston, TX</td>\n",
       "      <td>M</td>\n",
       "      <td>30000.0</td>\n",
       "      <td>987654321.0</td>\n",
       "      <td>5</td>\n",
       "      <td>1</td>\n",
       "      <td>32.5</td>\n",
       "      <td>ProductX</td>\n",
       "      <td>Bellaire</td>\n",
       "      <td>5</td>\n",
       "    </tr>\n",
       "    <tr>\n",
       "      <th>2</th>\n",
       "      <td>Joyce</td>\n",
       "      <td>A</td>\n",
       "      <td>English</td>\n",
       "      <td>453453453</td>\n",
       "      <td>1962-12-31</td>\n",
       "      <td>5631 Rice, Houston, TX</td>\n",
       "      <td>F</td>\n",
       "      <td>25000.0</td>\n",
       "      <td>333445555.0</td>\n",
       "      <td>5</td>\n",
       "      <td>1</td>\n",
       "      <td>20.0</td>\n",
       "      <td>ProductX</td>\n",
       "      <td>Bellaire</td>\n",
       "      <td>5</td>\n",
       "    </tr>\n",
       "  </tbody>\n",
       "</table>\n",
       "</div>"
      ],
      "text/plain": [
       "   PNOME MINICIAL    UNOME        SSN    DATANASC                  ENDERECO  \\\n",
       "0   John        B    Smith  123456789  1955-01-09  731 Fondren, Houston, TX   \n",
       "2  Joyce        A  English  453453453  1962-12-31    5631 Rice, Houston, TX   \n",
       "\n",
       "  SEXO  SALARIO     SUPERSSN  DNO  PNO  HORAS    PJNOME PLOCALIZACAO  DNUM  \n",
       "0    M  30000.0  987654321.0    5    1   32.5  ProductX     Bellaire     5  \n",
       "2    F  25000.0  333445555.0    5    1   20.0  ProductX     Bellaire     5  "
      ]
     },
     "execution_count": 243,
     "metadata": {},
     "output_type": "execute_result"
    }
   ],
   "source": [
    "eqPrjtX"
   ]
  },
  {
   "cell_type": "markdown",
   "metadata": {},
   "source": [
    "### Pergunta 10\n",
    "Considere o banco de dados do enunciado. Crie uma consulta em SQL e responda: Quantos empregados possuem um dependente com o mesmo primeiro nome que o deles?\n",
    "Grupo de escolhas da pergunta\n"
   ]
  },
  {
   "cell_type": "code",
   "execution_count": 248,
   "metadata": {},
   "outputs": [
    {
     "data": {
      "text/html": [
       "<div>\n",
       "<style scoped>\n",
       "    .dataframe tbody tr th:only-of-type {\n",
       "        vertical-align: middle;\n",
       "    }\n",
       "\n",
       "    .dataframe tbody tr th {\n",
       "        vertical-align: top;\n",
       "    }\n",
       "\n",
       "    .dataframe thead th {\n",
       "        text-align: right;\n",
       "    }\n",
       "</style>\n",
       "<table border=\"1\" class=\"dataframe\">\n",
       "  <thead>\n",
       "    <tr style=\"text-align: right;\">\n",
       "      <th></th>\n",
       "      <th>ESSN</th>\n",
       "      <th>NOME_DEPENDENTE</th>\n",
       "      <th>SEX</th>\n",
       "      <th>DATANASC</th>\n",
       "      <th>PARENTESCO</th>\n",
       "    </tr>\n",
       "  </thead>\n",
       "  <tbody>\n",
       "    <tr>\n",
       "      <th>0</th>\n",
       "      <td>123456789</td>\n",
       "      <td>Alice</td>\n",
       "      <td>F</td>\n",
       "      <td>1978-12-30</td>\n",
       "      <td>Daughter</td>\n",
       "    </tr>\n",
       "    <tr>\n",
       "      <th>1</th>\n",
       "      <td>123456789</td>\n",
       "      <td>Elizabeth</td>\n",
       "      <td>F</td>\n",
       "      <td>2057-05-04</td>\n",
       "      <td>Spouse</td>\n",
       "    </tr>\n",
       "    <tr>\n",
       "      <th>2</th>\n",
       "      <td>123456789</td>\n",
       "      <td>Michael</td>\n",
       "      <td>M</td>\n",
       "      <td>1977-12-31</td>\n",
       "      <td>Son</td>\n",
       "    </tr>\n",
       "    <tr>\n",
       "      <th>3</th>\n",
       "      <td>333445555</td>\n",
       "      <td>Alice</td>\n",
       "      <td>F</td>\n",
       "      <td>1977-12-31</td>\n",
       "      <td>Daughter</td>\n",
       "    </tr>\n",
       "    <tr>\n",
       "      <th>4</th>\n",
       "      <td>333445555</td>\n",
       "      <td>Joy</td>\n",
       "      <td>F</td>\n",
       "      <td>2048-05-02</td>\n",
       "      <td>Spouse</td>\n",
       "    </tr>\n",
       "    <tr>\n",
       "      <th>5</th>\n",
       "      <td>333445555</td>\n",
       "      <td>Teodore</td>\n",
       "      <td>M</td>\n",
       "      <td>1973-10-24</td>\n",
       "      <td>Son</td>\n",
       "    </tr>\n",
       "    <tr>\n",
       "      <th>6</th>\n",
       "      <td>987654321</td>\n",
       "      <td>Abner</td>\n",
       "      <td>M</td>\n",
       "      <td>2032-02-28</td>\n",
       "      <td>Spouse</td>\n",
       "    </tr>\n",
       "  </tbody>\n",
       "</table>\n",
       "</div>"
      ],
      "text/plain": [
       "        ESSN NOME_DEPENDENTE SEX    DATANASC PARENTESCO\n",
       "0  123456789           Alice   F  1978-12-30   Daughter\n",
       "1  123456789       Elizabeth   F  2057-05-04     Spouse\n",
       "2  123456789         Michael   M  1977-12-31        Son\n",
       "3  333445555           Alice   F  1977-12-31   Daughter\n",
       "4  333445555             Joy   F  2048-05-02     Spouse\n",
       "5  333445555         Teodore   M  1973-10-24        Son\n",
       "6  987654321           Abner   M  2032-02-28     Spouse"
      ]
     },
     "execution_count": 248,
     "metadata": {},
     "output_type": "execute_result"
    }
   ],
   "source": [
    "dependente"
   ]
  },
  {
   "cell_type": "code",
   "execution_count": 249,
   "metadata": {},
   "outputs": [
    {
     "data": {
      "text/html": [
       "<div>\n",
       "<style scoped>\n",
       "    .dataframe tbody tr th:only-of-type {\n",
       "        vertical-align: middle;\n",
       "    }\n",
       "\n",
       "    .dataframe tbody tr th {\n",
       "        vertical-align: top;\n",
       "    }\n",
       "\n",
       "    .dataframe thead th {\n",
       "        text-align: right;\n",
       "    }\n",
       "</style>\n",
       "<table border=\"1\" class=\"dataframe\">\n",
       "  <thead>\n",
       "    <tr style=\"text-align: right;\">\n",
       "      <th></th>\n",
       "      <th>PNOME</th>\n",
       "      <th>MINICIAL</th>\n",
       "      <th>UNOME</th>\n",
       "      <th>SSN</th>\n",
       "      <th>DATANASC</th>\n",
       "      <th>ENDERECO</th>\n",
       "      <th>SEXO</th>\n",
       "      <th>SALARIO</th>\n",
       "      <th>SUPERSSN</th>\n",
       "      <th>DNO</th>\n",
       "    </tr>\n",
       "  </thead>\n",
       "  <tbody>\n",
       "    <tr>\n",
       "      <th>0</th>\n",
       "      <td>John</td>\n",
       "      <td>B</td>\n",
       "      <td>Smith</td>\n",
       "      <td>123456789</td>\n",
       "      <td>1955-01-09</td>\n",
       "      <td>731 Fondren, Houston, TX</td>\n",
       "      <td>M</td>\n",
       "      <td>30000.0</td>\n",
       "      <td>987654321.0</td>\n",
       "      <td>5</td>\n",
       "    </tr>\n",
       "    <tr>\n",
       "      <th>1</th>\n",
       "      <td>Franklin</td>\n",
       "      <td>T</td>\n",
       "      <td>Wong</td>\n",
       "      <td>333445555</td>\n",
       "      <td>1945-12-08</td>\n",
       "      <td>638 Voss, Houston, TX</td>\n",
       "      <td>M</td>\n",
       "      <td>40000.0</td>\n",
       "      <td>888665555.0</td>\n",
       "      <td>5</td>\n",
       "    </tr>\n",
       "    <tr>\n",
       "      <th>2</th>\n",
       "      <td>Joyce</td>\n",
       "      <td>A</td>\n",
       "      <td>English</td>\n",
       "      <td>453453453</td>\n",
       "      <td>1962-12-31</td>\n",
       "      <td>5631 Rice, Houston, TX</td>\n",
       "      <td>F</td>\n",
       "      <td>25000.0</td>\n",
       "      <td>333445555.0</td>\n",
       "      <td>5</td>\n",
       "    </tr>\n",
       "    <tr>\n",
       "      <th>3</th>\n",
       "      <td>Ramesh</td>\n",
       "      <td>K</td>\n",
       "      <td>Narayan</td>\n",
       "      <td>666884444</td>\n",
       "      <td>1952-09-15</td>\n",
       "      <td>Fire Oak, Humble, TX</td>\n",
       "      <td>M</td>\n",
       "      <td>38000.0</td>\n",
       "      <td>333445555.0</td>\n",
       "      <td>5</td>\n",
       "    </tr>\n",
       "    <tr>\n",
       "      <th>4</th>\n",
       "      <td>James</td>\n",
       "      <td>E</td>\n",
       "      <td>Borg</td>\n",
       "      <td>888665555</td>\n",
       "      <td>1927-11-10</td>\n",
       "      <td>Stone, Houston, TX</td>\n",
       "      <td>M</td>\n",
       "      <td>55000.0</td>\n",
       "      <td>NaN</td>\n",
       "      <td>1</td>\n",
       "    </tr>\n",
       "    <tr>\n",
       "      <th>5</th>\n",
       "      <td>Jennifer</td>\n",
       "      <td>S</td>\n",
       "      <td>Wallace</td>\n",
       "      <td>987654321</td>\n",
       "      <td>1931-06-20</td>\n",
       "      <td>Berry, Bellaire, TX</td>\n",
       "      <td>F</td>\n",
       "      <td>43000.0</td>\n",
       "      <td>888665555.0</td>\n",
       "      <td>4</td>\n",
       "    </tr>\n",
       "    <tr>\n",
       "      <th>6</th>\n",
       "      <td>Ahmad</td>\n",
       "      <td>V</td>\n",
       "      <td>Jabbar</td>\n",
       "      <td>987987987</td>\n",
       "      <td>1959-03-29</td>\n",
       "      <td>Dallas, Houston, TX</td>\n",
       "      <td>M</td>\n",
       "      <td>25000.0</td>\n",
       "      <td>987654321.0</td>\n",
       "      <td>4</td>\n",
       "    </tr>\n",
       "    <tr>\n",
       "      <th>7</th>\n",
       "      <td>Alicia</td>\n",
       "      <td>J</td>\n",
       "      <td>Zelaya</td>\n",
       "      <td>999887777</td>\n",
       "      <td>1958-06-19</td>\n",
       "      <td>Castle, SPring, TX</td>\n",
       "      <td>F</td>\n",
       "      <td>25000.0</td>\n",
       "      <td>987654321.0</td>\n",
       "      <td>4</td>\n",
       "    </tr>\n",
       "  </tbody>\n",
       "</table>\n",
       "</div>"
      ],
      "text/plain": [
       "      PNOME MINICIAL    UNOME        SSN    DATANASC  \\\n",
       "0      John        B    Smith  123456789  1955-01-09   \n",
       "1  Franklin        T     Wong  333445555  1945-12-08   \n",
       "2     Joyce        A  English  453453453  1962-12-31   \n",
       "3    Ramesh        K  Narayan  666884444  1952-09-15   \n",
       "4     James        E     Borg  888665555  1927-11-10   \n",
       "5  Jennifer        S  Wallace  987654321  1931-06-20   \n",
       "6     Ahmad        V   Jabbar  987987987  1959-03-29   \n",
       "7    Alicia        J   Zelaya  999887777  1958-06-19   \n",
       "\n",
       "                   ENDERECO SEXO  SALARIO     SUPERSSN  DNO  \n",
       "0  731 Fondren, Houston, TX    M  30000.0  987654321.0    5  \n",
       "1     638 Voss, Houston, TX    M  40000.0  888665555.0    5  \n",
       "2    5631 Rice, Houston, TX    F  25000.0  333445555.0    5  \n",
       "3      Fire Oak, Humble, TX    M  38000.0  333445555.0    5  \n",
       "4        Stone, Houston, TX    M  55000.0          NaN    1  \n",
       "5       Berry, Bellaire, TX    F  43000.0  888665555.0    4  \n",
       "6       Dallas, Houston, TX    M  25000.0  987654321.0    4  \n",
       "7        Castle, SPring, TX    F  25000.0  987654321.0    4  "
      ]
     },
     "execution_count": 249,
     "metadata": {},
     "output_type": "execute_result"
    }
   ],
   "source": [
    "empregado"
   ]
  },
  {
   "cell_type": "code",
   "execution_count": 257,
   "metadata": {},
   "outputs": [],
   "source": [
    "emp_dep = empregado.join(dependente.set_index('ESSN'), on='SSN', lsuffix='_emp')"
   ]
  },
  {
   "cell_type": "code",
   "execution_count": 262,
   "metadata": {},
   "outputs": [
    {
     "data": {
      "text/html": [
       "<div>\n",
       "<style scoped>\n",
       "    .dataframe tbody tr th:only-of-type {\n",
       "        vertical-align: middle;\n",
       "    }\n",
       "\n",
       "    .dataframe tbody tr th {\n",
       "        vertical-align: top;\n",
       "    }\n",
       "\n",
       "    .dataframe thead th {\n",
       "        text-align: right;\n",
       "    }\n",
       "</style>\n",
       "<table border=\"1\" class=\"dataframe\">\n",
       "  <thead>\n",
       "    <tr style=\"text-align: right;\">\n",
       "      <th></th>\n",
       "      <th>PNOME</th>\n",
       "      <th>MINICIAL</th>\n",
       "      <th>UNOME</th>\n",
       "      <th>SSN</th>\n",
       "      <th>DATANASC_emp</th>\n",
       "      <th>ENDERECO</th>\n",
       "      <th>SEXO</th>\n",
       "      <th>SALARIO</th>\n",
       "      <th>SUPERSSN</th>\n",
       "      <th>DNO</th>\n",
       "      <th>NOME_DEPENDENTE</th>\n",
       "      <th>SEX</th>\n",
       "      <th>DATANASC</th>\n",
       "      <th>PARENTESCO</th>\n",
       "    </tr>\n",
       "  </thead>\n",
       "  <tbody>\n",
       "    <tr>\n",
       "      <th>0</th>\n",
       "      <td>John</td>\n",
       "      <td>B</td>\n",
       "      <td>Smith</td>\n",
       "      <td>123456789</td>\n",
       "      <td>1955-01-09</td>\n",
       "      <td>731 Fondren, Houston, TX</td>\n",
       "      <td>M</td>\n",
       "      <td>30000.0</td>\n",
       "      <td>987654321.0</td>\n",
       "      <td>5</td>\n",
       "      <td>Alice</td>\n",
       "      <td>F</td>\n",
       "      <td>1978-12-30</td>\n",
       "      <td>Daughter</td>\n",
       "    </tr>\n",
       "    <tr>\n",
       "      <th>0</th>\n",
       "      <td>John</td>\n",
       "      <td>B</td>\n",
       "      <td>Smith</td>\n",
       "      <td>123456789</td>\n",
       "      <td>1955-01-09</td>\n",
       "      <td>731 Fondren, Houston, TX</td>\n",
       "      <td>M</td>\n",
       "      <td>30000.0</td>\n",
       "      <td>987654321.0</td>\n",
       "      <td>5</td>\n",
       "      <td>Elizabeth</td>\n",
       "      <td>F</td>\n",
       "      <td>2057-05-04</td>\n",
       "      <td>Spouse</td>\n",
       "    </tr>\n",
       "    <tr>\n",
       "      <th>0</th>\n",
       "      <td>John</td>\n",
       "      <td>B</td>\n",
       "      <td>Smith</td>\n",
       "      <td>123456789</td>\n",
       "      <td>1955-01-09</td>\n",
       "      <td>731 Fondren, Houston, TX</td>\n",
       "      <td>M</td>\n",
       "      <td>30000.0</td>\n",
       "      <td>987654321.0</td>\n",
       "      <td>5</td>\n",
       "      <td>Michael</td>\n",
       "      <td>M</td>\n",
       "      <td>1977-12-31</td>\n",
       "      <td>Son</td>\n",
       "    </tr>\n",
       "    <tr>\n",
       "      <th>1</th>\n",
       "      <td>Franklin</td>\n",
       "      <td>T</td>\n",
       "      <td>Wong</td>\n",
       "      <td>333445555</td>\n",
       "      <td>1945-12-08</td>\n",
       "      <td>638 Voss, Houston, TX</td>\n",
       "      <td>M</td>\n",
       "      <td>40000.0</td>\n",
       "      <td>888665555.0</td>\n",
       "      <td>5</td>\n",
       "      <td>Alice</td>\n",
       "      <td>F</td>\n",
       "      <td>1977-12-31</td>\n",
       "      <td>Daughter</td>\n",
       "    </tr>\n",
       "    <tr>\n",
       "      <th>1</th>\n",
       "      <td>Franklin</td>\n",
       "      <td>T</td>\n",
       "      <td>Wong</td>\n",
       "      <td>333445555</td>\n",
       "      <td>1945-12-08</td>\n",
       "      <td>638 Voss, Houston, TX</td>\n",
       "      <td>M</td>\n",
       "      <td>40000.0</td>\n",
       "      <td>888665555.0</td>\n",
       "      <td>5</td>\n",
       "      <td>Joy</td>\n",
       "      <td>F</td>\n",
       "      <td>2048-05-02</td>\n",
       "      <td>Spouse</td>\n",
       "    </tr>\n",
       "    <tr>\n",
       "      <th>1</th>\n",
       "      <td>Franklin</td>\n",
       "      <td>T</td>\n",
       "      <td>Wong</td>\n",
       "      <td>333445555</td>\n",
       "      <td>1945-12-08</td>\n",
       "      <td>638 Voss, Houston, TX</td>\n",
       "      <td>M</td>\n",
       "      <td>40000.0</td>\n",
       "      <td>888665555.0</td>\n",
       "      <td>5</td>\n",
       "      <td>Teodore</td>\n",
       "      <td>M</td>\n",
       "      <td>1973-10-24</td>\n",
       "      <td>Son</td>\n",
       "    </tr>\n",
       "    <tr>\n",
       "      <th>2</th>\n",
       "      <td>Joyce</td>\n",
       "      <td>A</td>\n",
       "      <td>English</td>\n",
       "      <td>453453453</td>\n",
       "      <td>1962-12-31</td>\n",
       "      <td>5631 Rice, Houston, TX</td>\n",
       "      <td>F</td>\n",
       "      <td>25000.0</td>\n",
       "      <td>333445555.0</td>\n",
       "      <td>5</td>\n",
       "      <td>NaN</td>\n",
       "      <td>NaN</td>\n",
       "      <td>NaN</td>\n",
       "      <td>NaN</td>\n",
       "    </tr>\n",
       "    <tr>\n",
       "      <th>3</th>\n",
       "      <td>Ramesh</td>\n",
       "      <td>K</td>\n",
       "      <td>Narayan</td>\n",
       "      <td>666884444</td>\n",
       "      <td>1952-09-15</td>\n",
       "      <td>Fire Oak, Humble, TX</td>\n",
       "      <td>M</td>\n",
       "      <td>38000.0</td>\n",
       "      <td>333445555.0</td>\n",
       "      <td>5</td>\n",
       "      <td>NaN</td>\n",
       "      <td>NaN</td>\n",
       "      <td>NaN</td>\n",
       "      <td>NaN</td>\n",
       "    </tr>\n",
       "    <tr>\n",
       "      <th>4</th>\n",
       "      <td>James</td>\n",
       "      <td>E</td>\n",
       "      <td>Borg</td>\n",
       "      <td>888665555</td>\n",
       "      <td>1927-11-10</td>\n",
       "      <td>Stone, Houston, TX</td>\n",
       "      <td>M</td>\n",
       "      <td>55000.0</td>\n",
       "      <td>NaN</td>\n",
       "      <td>1</td>\n",
       "      <td>NaN</td>\n",
       "      <td>NaN</td>\n",
       "      <td>NaN</td>\n",
       "      <td>NaN</td>\n",
       "    </tr>\n",
       "    <tr>\n",
       "      <th>5</th>\n",
       "      <td>Jennifer</td>\n",
       "      <td>S</td>\n",
       "      <td>Wallace</td>\n",
       "      <td>987654321</td>\n",
       "      <td>1931-06-20</td>\n",
       "      <td>Berry, Bellaire, TX</td>\n",
       "      <td>F</td>\n",
       "      <td>43000.0</td>\n",
       "      <td>888665555.0</td>\n",
       "      <td>4</td>\n",
       "      <td>Abner</td>\n",
       "      <td>M</td>\n",
       "      <td>2032-02-28</td>\n",
       "      <td>Spouse</td>\n",
       "    </tr>\n",
       "    <tr>\n",
       "      <th>6</th>\n",
       "      <td>Ahmad</td>\n",
       "      <td>V</td>\n",
       "      <td>Jabbar</td>\n",
       "      <td>987987987</td>\n",
       "      <td>1959-03-29</td>\n",
       "      <td>Dallas, Houston, TX</td>\n",
       "      <td>M</td>\n",
       "      <td>25000.0</td>\n",
       "      <td>987654321.0</td>\n",
       "      <td>4</td>\n",
       "      <td>NaN</td>\n",
       "      <td>NaN</td>\n",
       "      <td>NaN</td>\n",
       "      <td>NaN</td>\n",
       "    </tr>\n",
       "    <tr>\n",
       "      <th>7</th>\n",
       "      <td>Alicia</td>\n",
       "      <td>J</td>\n",
       "      <td>Zelaya</td>\n",
       "      <td>999887777</td>\n",
       "      <td>1958-06-19</td>\n",
       "      <td>Castle, SPring, TX</td>\n",
       "      <td>F</td>\n",
       "      <td>25000.0</td>\n",
       "      <td>987654321.0</td>\n",
       "      <td>4</td>\n",
       "      <td>NaN</td>\n",
       "      <td>NaN</td>\n",
       "      <td>NaN</td>\n",
       "      <td>NaN</td>\n",
       "    </tr>\n",
       "  </tbody>\n",
       "</table>\n",
       "</div>"
      ],
      "text/plain": [
       "      PNOME MINICIAL    UNOME        SSN DATANASC_emp  \\\n",
       "0      John        B    Smith  123456789   1955-01-09   \n",
       "0      John        B    Smith  123456789   1955-01-09   \n",
       "0      John        B    Smith  123456789   1955-01-09   \n",
       "1  Franklin        T     Wong  333445555   1945-12-08   \n",
       "1  Franklin        T     Wong  333445555   1945-12-08   \n",
       "1  Franklin        T     Wong  333445555   1945-12-08   \n",
       "2     Joyce        A  English  453453453   1962-12-31   \n",
       "3    Ramesh        K  Narayan  666884444   1952-09-15   \n",
       "4     James        E     Borg  888665555   1927-11-10   \n",
       "5  Jennifer        S  Wallace  987654321   1931-06-20   \n",
       "6     Ahmad        V   Jabbar  987987987   1959-03-29   \n",
       "7    Alicia        J   Zelaya  999887777   1958-06-19   \n",
       "\n",
       "                   ENDERECO SEXO  SALARIO     SUPERSSN  DNO NOME_DEPENDENTE  \\\n",
       "0  731 Fondren, Houston, TX    M  30000.0  987654321.0    5           Alice   \n",
       "0  731 Fondren, Houston, TX    M  30000.0  987654321.0    5       Elizabeth   \n",
       "0  731 Fondren, Houston, TX    M  30000.0  987654321.0    5         Michael   \n",
       "1     638 Voss, Houston, TX    M  40000.0  888665555.0    5           Alice   \n",
       "1     638 Voss, Houston, TX    M  40000.0  888665555.0    5             Joy   \n",
       "1     638 Voss, Houston, TX    M  40000.0  888665555.0    5         Teodore   \n",
       "2    5631 Rice, Houston, TX    F  25000.0  333445555.0    5             NaN   \n",
       "3      Fire Oak, Humble, TX    M  38000.0  333445555.0    5             NaN   \n",
       "4        Stone, Houston, TX    M  55000.0          NaN    1             NaN   \n",
       "5       Berry, Bellaire, TX    F  43000.0  888665555.0    4           Abner   \n",
       "6       Dallas, Houston, TX    M  25000.0  987654321.0    4             NaN   \n",
       "7        Castle, SPring, TX    F  25000.0  987654321.0    4             NaN   \n",
       "\n",
       "   SEX    DATANASC PARENTESCO  \n",
       "0    F  1978-12-30   Daughter  \n",
       "0    F  2057-05-04     Spouse  \n",
       "0    M  1977-12-31        Son  \n",
       "1    F  1977-12-31   Daughter  \n",
       "1    F  2048-05-02     Spouse  \n",
       "1    M  1973-10-24        Son  \n",
       "2  NaN         NaN        NaN  \n",
       "3  NaN         NaN        NaN  \n",
       "4  NaN         NaN        NaN  \n",
       "5    M  2032-02-28     Spouse  \n",
       "6  NaN         NaN        NaN  \n",
       "7  NaN         NaN        NaN  "
      ]
     },
     "execution_count": 262,
     "metadata": {},
     "output_type": "execute_result"
    }
   ],
   "source": [
    "emp_dep"
   ]
  },
  {
   "cell_type": "code",
   "execution_count": 264,
   "metadata": {},
   "outputs": [
    {
     "data": {
      "text/html": [
       "<div>\n",
       "<style scoped>\n",
       "    .dataframe tbody tr th:only-of-type {\n",
       "        vertical-align: middle;\n",
       "    }\n",
       "\n",
       "    .dataframe tbody tr th {\n",
       "        vertical-align: top;\n",
       "    }\n",
       "\n",
       "    .dataframe thead th {\n",
       "        text-align: right;\n",
       "    }\n",
       "</style>\n",
       "<table border=\"1\" class=\"dataframe\">\n",
       "  <thead>\n",
       "    <tr style=\"text-align: right;\">\n",
       "      <th></th>\n",
       "      <th>PNOME</th>\n",
       "      <th>NOME_DEPENDENTE</th>\n",
       "    </tr>\n",
       "  </thead>\n",
       "  <tbody>\n",
       "    <tr>\n",
       "      <th>0</th>\n",
       "      <td>John</td>\n",
       "      <td>Alice</td>\n",
       "    </tr>\n",
       "    <tr>\n",
       "      <th>0</th>\n",
       "      <td>John</td>\n",
       "      <td>Elizabeth</td>\n",
       "    </tr>\n",
       "    <tr>\n",
       "      <th>0</th>\n",
       "      <td>John</td>\n",
       "      <td>Michael</td>\n",
       "    </tr>\n",
       "    <tr>\n",
       "      <th>1</th>\n",
       "      <td>Franklin</td>\n",
       "      <td>Alice</td>\n",
       "    </tr>\n",
       "    <tr>\n",
       "      <th>1</th>\n",
       "      <td>Franklin</td>\n",
       "      <td>Joy</td>\n",
       "    </tr>\n",
       "    <tr>\n",
       "      <th>1</th>\n",
       "      <td>Franklin</td>\n",
       "      <td>Teodore</td>\n",
       "    </tr>\n",
       "    <tr>\n",
       "      <th>2</th>\n",
       "      <td>Joyce</td>\n",
       "      <td>NaN</td>\n",
       "    </tr>\n",
       "    <tr>\n",
       "      <th>3</th>\n",
       "      <td>Ramesh</td>\n",
       "      <td>NaN</td>\n",
       "    </tr>\n",
       "    <tr>\n",
       "      <th>4</th>\n",
       "      <td>James</td>\n",
       "      <td>NaN</td>\n",
       "    </tr>\n",
       "    <tr>\n",
       "      <th>5</th>\n",
       "      <td>Jennifer</td>\n",
       "      <td>Abner</td>\n",
       "    </tr>\n",
       "    <tr>\n",
       "      <th>6</th>\n",
       "      <td>Ahmad</td>\n",
       "      <td>NaN</td>\n",
       "    </tr>\n",
       "    <tr>\n",
       "      <th>7</th>\n",
       "      <td>Alicia</td>\n",
       "      <td>NaN</td>\n",
       "    </tr>\n",
       "  </tbody>\n",
       "</table>\n",
       "</div>"
      ],
      "text/plain": [
       "      PNOME NOME_DEPENDENTE\n",
       "0      John           Alice\n",
       "0      John       Elizabeth\n",
       "0      John         Michael\n",
       "1  Franklin           Alice\n",
       "1  Franklin             Joy\n",
       "1  Franklin         Teodore\n",
       "2     Joyce             NaN\n",
       "3    Ramesh             NaN\n",
       "4     James             NaN\n",
       "5  Jennifer           Abner\n",
       "6     Ahmad             NaN\n",
       "7    Alicia             NaN"
      ]
     },
     "execution_count": 264,
     "metadata": {},
     "output_type": "execute_result"
    }
   ],
   "source": [
    "emp_dep.loc[:, ['PNOME', 'NOME_DEPENDENTE']]"
   ]
  },
  {
   "cell_type": "code",
   "execution_count": 265,
   "metadata": {},
   "outputs": [
    {
     "data": {
      "text/plain": [
       "0"
      ]
     },
     "execution_count": 265,
     "metadata": {},
     "output_type": "execute_result"
    }
   ],
   "source": [
    "sum(emp_dep['PNOME'] == emp_dep['NOME_DEPENDENTE'])"
   ]
  },
  {
   "cell_type": "markdown",
   "metadata": {},
   "source": [
    "### Pergunta 11\n",
    "Considere o banco de dados do enunciado. Crie uma consulta em SQL e responda: Quais os nomes de todos os empregados que são diretamente supervisionados por Franklin Wong"
   ]
  },
  {
   "cell_type": "code",
   "execution_count": null,
   "metadata": {},
   "outputs": [],
   "source": [
    "#em duvida"
   ]
  },
  {
   "cell_type": "markdown",
   "metadata": {},
   "source": [
    "### pergunta 12\n",
    "Considere o banco de dados do enunciado. Crie uma consulta em SQL e responda: Quem é a pessoa que possui mais tempo de alocação no projeto 'Newbenefits'?"
   ]
  },
  {
   "cell_type": "code",
   "execution_count": 284,
   "metadata": {},
   "outputs": [],
   "source": [
    "workers_projects = empregado.join(trabalha_em.set_index(\"ESSN\"), on='SSN').join(projeto.set_index('PNUMERO'), on='PNO')"
   ]
  },
  {
   "cell_type": "code",
   "execution_count": 289,
   "metadata": {},
   "outputs": [
    {
     "data": {
      "text/html": [
       "<div>\n",
       "<style scoped>\n",
       "    .dataframe tbody tr th:only-of-type {\n",
       "        vertical-align: middle;\n",
       "    }\n",
       "\n",
       "    .dataframe tbody tr th {\n",
       "        vertical-align: top;\n",
       "    }\n",
       "\n",
       "    .dataframe thead th {\n",
       "        text-align: right;\n",
       "    }\n",
       "</style>\n",
       "<table border=\"1\" class=\"dataframe\">\n",
       "  <thead>\n",
       "    <tr style=\"text-align: right;\">\n",
       "      <th></th>\n",
       "      <th>PNOME</th>\n",
       "      <th>MINICIAL</th>\n",
       "      <th>UNOME</th>\n",
       "      <th>SSN</th>\n",
       "      <th>DATANASC</th>\n",
       "      <th>ENDERECO</th>\n",
       "      <th>SEXO</th>\n",
       "      <th>SALARIO</th>\n",
       "      <th>SUPERSSN</th>\n",
       "      <th>DNO</th>\n",
       "      <th>PNO</th>\n",
       "      <th>HORAS</th>\n",
       "      <th>PJNOME</th>\n",
       "      <th>PLOCALIZACAO</th>\n",
       "      <th>DNUM</th>\n",
       "    </tr>\n",
       "  </thead>\n",
       "  <tbody>\n",
       "    <tr>\n",
       "      <th>7</th>\n",
       "      <td>Alicia</td>\n",
       "      <td>J</td>\n",
       "      <td>Zelaya</td>\n",
       "      <td>999887777</td>\n",
       "      <td>1958-06-19</td>\n",
       "      <td>Castle, SPring, TX</td>\n",
       "      <td>F</td>\n",
       "      <td>25000.0</td>\n",
       "      <td>987654321.0</td>\n",
       "      <td>4</td>\n",
       "      <td>30</td>\n",
       "      <td>30.0</td>\n",
       "      <td>Newbenefits</td>\n",
       "      <td>Stafford</td>\n",
       "      <td>4</td>\n",
       "    </tr>\n",
       "    <tr>\n",
       "      <th>5</th>\n",
       "      <td>Jennifer</td>\n",
       "      <td>S</td>\n",
       "      <td>Wallace</td>\n",
       "      <td>987654321</td>\n",
       "      <td>1931-06-20</td>\n",
       "      <td>Berry, Bellaire, TX</td>\n",
       "      <td>F</td>\n",
       "      <td>43000.0</td>\n",
       "      <td>888665555.0</td>\n",
       "      <td>4</td>\n",
       "      <td>30</td>\n",
       "      <td>20.0</td>\n",
       "      <td>Newbenefits</td>\n",
       "      <td>Stafford</td>\n",
       "      <td>4</td>\n",
       "    </tr>\n",
       "    <tr>\n",
       "      <th>6</th>\n",
       "      <td>Ahmad</td>\n",
       "      <td>V</td>\n",
       "      <td>Jabbar</td>\n",
       "      <td>987987987</td>\n",
       "      <td>1959-03-29</td>\n",
       "      <td>Dallas, Houston, TX</td>\n",
       "      <td>M</td>\n",
       "      <td>25000.0</td>\n",
       "      <td>987654321.0</td>\n",
       "      <td>4</td>\n",
       "      <td>30</td>\n",
       "      <td>5.0</td>\n",
       "      <td>Newbenefits</td>\n",
       "      <td>Stafford</td>\n",
       "      <td>4</td>\n",
       "    </tr>\n",
       "  </tbody>\n",
       "</table>\n",
       "</div>"
      ],
      "text/plain": [
       "      PNOME MINICIAL    UNOME        SSN    DATANASC             ENDERECO  \\\n",
       "7    Alicia        J   Zelaya  999887777  1958-06-19   Castle, SPring, TX   \n",
       "5  Jennifer        S  Wallace  987654321  1931-06-20  Berry, Bellaire, TX   \n",
       "6     Ahmad        V   Jabbar  987987987  1959-03-29  Dallas, Houston, TX   \n",
       "\n",
       "  SEXO  SALARIO     SUPERSSN  DNO  PNO  HORAS       PJNOME PLOCALIZACAO  DNUM  \n",
       "7    F  25000.0  987654321.0    4   30   30.0  Newbenefits     Stafford     4  \n",
       "5    F  43000.0  888665555.0    4   30   20.0  Newbenefits     Stafford     4  \n",
       "6    M  25000.0  987654321.0    4   30    5.0  Newbenefits     Stafford     4  "
      ]
     },
     "execution_count": 289,
     "metadata": {},
     "output_type": "execute_result"
    }
   ],
   "source": [
    "workers_projects[workers_projects['PJNOME'] == 'Newbenefits'].sort_values('HORAS', ascending=False)"
   ]
  },
  {
   "cell_type": "markdown",
   "metadata": {},
   "source": [
    "### pergunta 13\n",
    "Considere o banco de dados do enunciado. Crie uma consulta em SQL e responda: Qual é a soma dos salários de todos os empregados do departamento chamado 'Research'?"
   ]
  },
  {
   "cell_type": "code",
   "execution_count": 295,
   "metadata": {},
   "outputs": [],
   "source": [
    "emp_depto = empregado.join(departamento.set_index('DNUMERO'), on='DNO')"
   ]
  },
  {
   "cell_type": "code",
   "execution_count": 298,
   "metadata": {},
   "outputs": [
    {
     "data": {
      "text/html": [
       "<div>\n",
       "<style scoped>\n",
       "    .dataframe tbody tr th:only-of-type {\n",
       "        vertical-align: middle;\n",
       "    }\n",
       "\n",
       "    .dataframe tbody tr th {\n",
       "        vertical-align: top;\n",
       "    }\n",
       "\n",
       "    .dataframe thead th {\n",
       "        text-align: right;\n",
       "    }\n",
       "</style>\n",
       "<table border=\"1\" class=\"dataframe\">\n",
       "  <thead>\n",
       "    <tr style=\"text-align: right;\">\n",
       "      <th></th>\n",
       "      <th>PNOME</th>\n",
       "      <th>MINICIAL</th>\n",
       "      <th>UNOME</th>\n",
       "      <th>SSN</th>\n",
       "      <th>DATANASC</th>\n",
       "      <th>ENDERECO</th>\n",
       "      <th>SEXO</th>\n",
       "      <th>SALARIO</th>\n",
       "      <th>SUPERSSN</th>\n",
       "      <th>DNO</th>\n",
       "      <th>DNOME</th>\n",
       "      <th>GERSSN</th>\n",
       "      <th>GERDATAINICIO</th>\n",
       "    </tr>\n",
       "  </thead>\n",
       "  <tbody>\n",
       "    <tr>\n",
       "      <th>0</th>\n",
       "      <td>John</td>\n",
       "      <td>B</td>\n",
       "      <td>Smith</td>\n",
       "      <td>123456789</td>\n",
       "      <td>1955-01-09</td>\n",
       "      <td>731 Fondren, Houston, TX</td>\n",
       "      <td>M</td>\n",
       "      <td>30000.0</td>\n",
       "      <td>987654321.0</td>\n",
       "      <td>5</td>\n",
       "      <td>Research</td>\n",
       "      <td>NaN</td>\n",
       "      <td>1978-05-22</td>\n",
       "    </tr>\n",
       "    <tr>\n",
       "      <th>1</th>\n",
       "      <td>Franklin</td>\n",
       "      <td>T</td>\n",
       "      <td>Wong</td>\n",
       "      <td>333445555</td>\n",
       "      <td>1945-12-08</td>\n",
       "      <td>638 Voss, Houston, TX</td>\n",
       "      <td>M</td>\n",
       "      <td>40000.0</td>\n",
       "      <td>888665555.0</td>\n",
       "      <td>5</td>\n",
       "      <td>Research</td>\n",
       "      <td>NaN</td>\n",
       "      <td>1978-05-22</td>\n",
       "    </tr>\n",
       "    <tr>\n",
       "      <th>2</th>\n",
       "      <td>Joyce</td>\n",
       "      <td>A</td>\n",
       "      <td>English</td>\n",
       "      <td>453453453</td>\n",
       "      <td>1962-12-31</td>\n",
       "      <td>5631 Rice, Houston, TX</td>\n",
       "      <td>F</td>\n",
       "      <td>25000.0</td>\n",
       "      <td>333445555.0</td>\n",
       "      <td>5</td>\n",
       "      <td>Research</td>\n",
       "      <td>NaN</td>\n",
       "      <td>1978-05-22</td>\n",
       "    </tr>\n",
       "    <tr>\n",
       "      <th>3</th>\n",
       "      <td>Ramesh</td>\n",
       "      <td>K</td>\n",
       "      <td>Narayan</td>\n",
       "      <td>666884444</td>\n",
       "      <td>1952-09-15</td>\n",
       "      <td>Fire Oak, Humble, TX</td>\n",
       "      <td>M</td>\n",
       "      <td>38000.0</td>\n",
       "      <td>333445555.0</td>\n",
       "      <td>5</td>\n",
       "      <td>Research</td>\n",
       "      <td>NaN</td>\n",
       "      <td>1978-05-22</td>\n",
       "    </tr>\n",
       "  </tbody>\n",
       "</table>\n",
       "</div>"
      ],
      "text/plain": [
       "      PNOME MINICIAL    UNOME        SSN    DATANASC  \\\n",
       "0      John        B    Smith  123456789  1955-01-09   \n",
       "1  Franklin        T     Wong  333445555  1945-12-08   \n",
       "2     Joyce        A  English  453453453  1962-12-31   \n",
       "3    Ramesh        K  Narayan  666884444  1952-09-15   \n",
       "\n",
       "                   ENDERECO SEXO  SALARIO     SUPERSSN  DNO     DNOME  GERSSN  \\\n",
       "0  731 Fondren, Houston, TX    M  30000.0  987654321.0    5  Research     NaN   \n",
       "1     638 Voss, Houston, TX    M  40000.0  888665555.0    5  Research     NaN   \n",
       "2    5631 Rice, Houston, TX    F  25000.0  333445555.0    5  Research     NaN   \n",
       "3      Fire Oak, Humble, TX    M  38000.0  333445555.0    5  Research     NaN   \n",
       "\n",
       "  GERDATAINICIO  \n",
       "0    1978-05-22  \n",
       "1    1978-05-22  \n",
       "2    1978-05-22  \n",
       "3    1978-05-22  "
      ]
     },
     "execution_count": 298,
     "metadata": {},
     "output_type": "execute_result"
    }
   ],
   "source": [
    "emp_depto[emp_depto['DNOME'] == 'Research']"
   ]
  },
  {
   "cell_type": "code",
   "execution_count": 300,
   "metadata": {},
   "outputs": [
    {
     "data": {
      "text/plain": [
       "133000.0"
      ]
     },
     "execution_count": 300,
     "metadata": {},
     "output_type": "execute_result"
    }
   ],
   "source": [
    "sum(emp_depto[emp_depto['DNOME'] == 'Research']['SALARIO'])"
   ]
  },
  {
   "cell_type": "markdown",
   "metadata": {},
   "source": [
    "### pergunta 14\n",
    "Considere o banco de dados do enunciado. Crie uma consulta em SQL e responda: Qual seria o custo do projeto com folha salarial (soma de todos os salários) caso a empresa desse 10% de aumento para todos os empregados que trabalham no projeto 'ProductX'?"
   ]
  },
  {
   "cell_type": "code",
   "execution_count": 302,
   "metadata": {},
   "outputs": [],
   "source": [
    "workers_projects = empregado.join(trabalha_em.set_index(\"ESSN\"), on='SSN').join(projeto.set_index('PNUMERO'), on='PNO')"
   ]
  },
  {
   "cell_type": "code",
   "execution_count": 306,
   "metadata": {},
   "outputs": [],
   "source": [
    "salario_work_pjX = workers_projects[workers_projects['PJNOME'] == 'ProductX']['SALARIO']"
   ]
  },
  {
   "cell_type": "code",
   "execution_count": 312,
   "metadata": {},
   "outputs": [
    {
     "data": {
      "text/plain": [
       "60500.0"
      ]
     },
     "execution_count": 312,
     "metadata": {},
     "output_type": "execute_result"
    }
   ],
   "source": [
    "sum(salario_work_pjX) + (sum(salario_work_pjX) * 0.10)"
   ]
  },
  {
   "cell_type": "markdown",
   "metadata": {},
   "source": [
    "### Pergunta 15\n",
    "Considere o banco de dados do enunciado. Crie uma consulta em SQL e responda: Qual o nome do departamento com a menor média de salário entre seus funcionários?"
   ]
  },
  {
   "cell_type": "code",
   "execution_count": 325,
   "metadata": {},
   "outputs": [],
   "source": [
    "work_dept = empregado.join(departamento.set_index('DNUMERO'), on='DNO')"
   ]
  },
  {
   "cell_type": "code",
   "execution_count": 326,
   "metadata": {},
   "outputs": [
    {
     "data": {
      "text/html": [
       "<div>\n",
       "<style scoped>\n",
       "    .dataframe tbody tr th:only-of-type {\n",
       "        vertical-align: middle;\n",
       "    }\n",
       "\n",
       "    .dataframe tbody tr th {\n",
       "        vertical-align: top;\n",
       "    }\n",
       "\n",
       "    .dataframe thead th {\n",
       "        text-align: right;\n",
       "    }\n",
       "</style>\n",
       "<table border=\"1\" class=\"dataframe\">\n",
       "  <thead>\n",
       "    <tr style=\"text-align: right;\">\n",
       "      <th></th>\n",
       "      <th>PNOME</th>\n",
       "      <th>MINICIAL</th>\n",
       "      <th>UNOME</th>\n",
       "      <th>SSN</th>\n",
       "      <th>DATANASC</th>\n",
       "      <th>ENDERECO</th>\n",
       "      <th>SEXO</th>\n",
       "      <th>SALARIO</th>\n",
       "      <th>SUPERSSN</th>\n",
       "      <th>DNO</th>\n",
       "      <th>DNOME</th>\n",
       "      <th>GERSSN</th>\n",
       "      <th>GERDATAINICIO</th>\n",
       "    </tr>\n",
       "  </thead>\n",
       "  <tbody>\n",
       "    <tr>\n",
       "      <th>0</th>\n",
       "      <td>John</td>\n",
       "      <td>B</td>\n",
       "      <td>Smith</td>\n",
       "      <td>123456789</td>\n",
       "      <td>1955-01-09</td>\n",
       "      <td>731 Fondren, Houston, TX</td>\n",
       "      <td>M</td>\n",
       "      <td>30000.0</td>\n",
       "      <td>987654321.0</td>\n",
       "      <td>5</td>\n",
       "      <td>Research</td>\n",
       "      <td>NaN</td>\n",
       "      <td>1978-05-22</td>\n",
       "    </tr>\n",
       "    <tr>\n",
       "      <th>1</th>\n",
       "      <td>Franklin</td>\n",
       "      <td>T</td>\n",
       "      <td>Wong</td>\n",
       "      <td>333445555</td>\n",
       "      <td>1945-12-08</td>\n",
       "      <td>638 Voss, Houston, TX</td>\n",
       "      <td>M</td>\n",
       "      <td>40000.0</td>\n",
       "      <td>888665555.0</td>\n",
       "      <td>5</td>\n",
       "      <td>Research</td>\n",
       "      <td>NaN</td>\n",
       "      <td>1978-05-22</td>\n",
       "    </tr>\n",
       "    <tr>\n",
       "      <th>2</th>\n",
       "      <td>Joyce</td>\n",
       "      <td>A</td>\n",
       "      <td>English</td>\n",
       "      <td>453453453</td>\n",
       "      <td>1962-12-31</td>\n",
       "      <td>5631 Rice, Houston, TX</td>\n",
       "      <td>F</td>\n",
       "      <td>25000.0</td>\n",
       "      <td>333445555.0</td>\n",
       "      <td>5</td>\n",
       "      <td>Research</td>\n",
       "      <td>NaN</td>\n",
       "      <td>1978-05-22</td>\n",
       "    </tr>\n",
       "    <tr>\n",
       "      <th>3</th>\n",
       "      <td>Ramesh</td>\n",
       "      <td>K</td>\n",
       "      <td>Narayan</td>\n",
       "      <td>666884444</td>\n",
       "      <td>1952-09-15</td>\n",
       "      <td>Fire Oak, Humble, TX</td>\n",
       "      <td>M</td>\n",
       "      <td>38000.0</td>\n",
       "      <td>333445555.0</td>\n",
       "      <td>5</td>\n",
       "      <td>Research</td>\n",
       "      <td>NaN</td>\n",
       "      <td>1978-05-22</td>\n",
       "    </tr>\n",
       "    <tr>\n",
       "      <th>4</th>\n",
       "      <td>James</td>\n",
       "      <td>E</td>\n",
       "      <td>Borg</td>\n",
       "      <td>888665555</td>\n",
       "      <td>1927-11-10</td>\n",
       "      <td>Stone, Houston, TX</td>\n",
       "      <td>M</td>\n",
       "      <td>55000.0</td>\n",
       "      <td>NaN</td>\n",
       "      <td>1</td>\n",
       "      <td>Headquarters</td>\n",
       "      <td>888665555.0</td>\n",
       "      <td>1971-06-19</td>\n",
       "    </tr>\n",
       "    <tr>\n",
       "      <th>5</th>\n",
       "      <td>Jennifer</td>\n",
       "      <td>S</td>\n",
       "      <td>Wallace</td>\n",
       "      <td>987654321</td>\n",
       "      <td>1931-06-20</td>\n",
       "      <td>Berry, Bellaire, TX</td>\n",
       "      <td>F</td>\n",
       "      <td>43000.0</td>\n",
       "      <td>888665555.0</td>\n",
       "      <td>4</td>\n",
       "      <td>Administration</td>\n",
       "      <td>NaN</td>\n",
       "      <td>1985-01-01</td>\n",
       "    </tr>\n",
       "    <tr>\n",
       "      <th>6</th>\n",
       "      <td>Ahmad</td>\n",
       "      <td>V</td>\n",
       "      <td>Jabbar</td>\n",
       "      <td>987987987</td>\n",
       "      <td>1959-03-29</td>\n",
       "      <td>Dallas, Houston, TX</td>\n",
       "      <td>M</td>\n",
       "      <td>25000.0</td>\n",
       "      <td>987654321.0</td>\n",
       "      <td>4</td>\n",
       "      <td>Administration</td>\n",
       "      <td>NaN</td>\n",
       "      <td>1985-01-01</td>\n",
       "    </tr>\n",
       "    <tr>\n",
       "      <th>7</th>\n",
       "      <td>Alicia</td>\n",
       "      <td>J</td>\n",
       "      <td>Zelaya</td>\n",
       "      <td>999887777</td>\n",
       "      <td>1958-06-19</td>\n",
       "      <td>Castle, SPring, TX</td>\n",
       "      <td>F</td>\n",
       "      <td>25000.0</td>\n",
       "      <td>987654321.0</td>\n",
       "      <td>4</td>\n",
       "      <td>Administration</td>\n",
       "      <td>NaN</td>\n",
       "      <td>1985-01-01</td>\n",
       "    </tr>\n",
       "  </tbody>\n",
       "</table>\n",
       "</div>"
      ],
      "text/plain": [
       "      PNOME MINICIAL    UNOME        SSN    DATANASC  \\\n",
       "0      John        B    Smith  123456789  1955-01-09   \n",
       "1  Franklin        T     Wong  333445555  1945-12-08   \n",
       "2     Joyce        A  English  453453453  1962-12-31   \n",
       "3    Ramesh        K  Narayan  666884444  1952-09-15   \n",
       "4     James        E     Borg  888665555  1927-11-10   \n",
       "5  Jennifer        S  Wallace  987654321  1931-06-20   \n",
       "6     Ahmad        V   Jabbar  987987987  1959-03-29   \n",
       "7    Alicia        J   Zelaya  999887777  1958-06-19   \n",
       "\n",
       "                   ENDERECO SEXO  SALARIO     SUPERSSN  DNO           DNOME  \\\n",
       "0  731 Fondren, Houston, TX    M  30000.0  987654321.0    5        Research   \n",
       "1     638 Voss, Houston, TX    M  40000.0  888665555.0    5        Research   \n",
       "2    5631 Rice, Houston, TX    F  25000.0  333445555.0    5        Research   \n",
       "3      Fire Oak, Humble, TX    M  38000.0  333445555.0    5        Research   \n",
       "4        Stone, Houston, TX    M  55000.0          NaN    1    Headquarters   \n",
       "5       Berry, Bellaire, TX    F  43000.0  888665555.0    4  Administration   \n",
       "6       Dallas, Houston, TX    M  25000.0  987654321.0    4  Administration   \n",
       "7        Castle, SPring, TX    F  25000.0  987654321.0    4  Administration   \n",
       "\n",
       "        GERSSN GERDATAINICIO  \n",
       "0          NaN    1978-05-22  \n",
       "1          NaN    1978-05-22  \n",
       "2          NaN    1978-05-22  \n",
       "3          NaN    1978-05-22  \n",
       "4  888665555.0    1971-06-19  \n",
       "5          NaN    1985-01-01  \n",
       "6          NaN    1985-01-01  \n",
       "7          NaN    1985-01-01  "
      ]
     },
     "execution_count": 326,
     "metadata": {},
     "output_type": "execute_result"
    }
   ],
   "source": [
    "work_dept"
   ]
  },
  {
   "cell_type": "code",
   "execution_count": 328,
   "metadata": {},
   "outputs": [],
   "source": [
    "dept_mean_salary = work_dept.groupby('DNOME')['SALARIO'].mean()"
   ]
  },
  {
   "cell_type": "code",
   "execution_count": 331,
   "metadata": {},
   "outputs": [
    {
     "data": {
      "text/plain": [
       "DNOME\n",
       "Administration    31000.0\n",
       "Research          33250.0\n",
       "Headquarters      55000.0\n",
       "Name: SALARIO, dtype: float64"
      ]
     },
     "execution_count": 331,
     "metadata": {},
     "output_type": "execute_result"
    }
   ],
   "source": [
    "dept_mean_salary.sort_values()"
   ]
  }
 ],
 "metadata": {
  "kernelspec": {
   "display_name": "Python 3",
   "language": "python",
   "name": "python3"
  },
  "language_info": {
   "codemirror_mode": {
    "name": "ipython",
    "version": 3
   },
   "file_extension": ".py",
   "mimetype": "text/x-python",
   "name": "python",
   "nbconvert_exporter": "python",
   "pygments_lexer": "ipython3",
   "version": "3.7.6"
  }
 },
 "nbformat": 4,
 "nbformat_minor": 4
}
