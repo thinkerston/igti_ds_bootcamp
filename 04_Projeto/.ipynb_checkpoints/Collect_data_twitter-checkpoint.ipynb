{
 "cells": [
  {
   "cell_type": "markdown",
   "metadata": {},
   "source": [
    "# Desafio 02"
   ]
  },
  {
   "cell_type": "markdown",
   "metadata": {},
   "source": [
    "O desafio 02 consiste em coletar dados da web"
   ]
  },
  {
   "cell_type": "markdown",
   "metadata": {},
   "source": [
    "### Atividade 1: \n",
    "Implementar um script utilizando a linguagem Python e seu pacote tweepy\n",
    "para coletar um conjunto de tweets no idioma português por meio de API do Twitter.\n",
    "Opcionalmente você pode salvar os tweets coletados em um arquivo csv ou json, ou ainda\n",
    "em um banco de dado MongoDB. Para coletar os tweets devem ser usadas as seguintes\n",
    "configurações:"
   ]
  },
  {
   "cell_type": "code",
   "execution_count": 71,
   "metadata": {},
   "outputs": [],
   "source": [
    "import tweepy\n",
    "import json"
   ]
  },
  {
   "cell_type": "code",
   "execution_count": 69,
   "metadata": {},
   "outputs": [],
   "source": [
    "pd.set_option('max_columns', 50)"
   ]
  },
  {
   "cell_type": "code",
   "execution_count": 29,
   "metadata": {},
   "outputs": [],
   "source": [
    "consumer_key = str(input('Insira sua API key: '))\n",
    "consumer_secret = str(input('Insira sua API secret key: '))\n",
    "\n",
    "access_token = str(input('Insira sua Access token: '))\n",
    "access_token_secret = str(input('Insira sua Access token secret: '))"
   ]
  },
  {
   "cell_type": "code",
   "execution_count": 30,
   "metadata": {},
   "outputs": [],
   "source": [
    "auth = tweepy.OAuthHandler(consumer_key, consumer_secret)\n",
    "auth.set_access_token(access_token, access_token_secret)"
   ]
  },
  {
   "cell_type": "code",
   "execution_count": null,
   "metadata": {},
   "outputs": [],
   "source": [
    "#optei por remover esses paramentros para que haja mais dados\n",
    "#mas caso queria tu pode colocar eles\n",
    "\n",
    "#(tweet_mode='extended').\n",
    "#(result_type=\"popular\")."
   ]
  },
  {
   "cell_type": "code",
   "execution_count": 164,
   "metadata": {},
   "outputs": [
    {
     "name": "stdout",
     "output_type": "stream",
     "text": [
      "coletandoa palavra: home office\n",
      "Agora vou dormir por 300 segundo se não o Twitter me Flopa\n",
      "coletandoa palavra: trabalho remoto\n",
      "Coletamos 100 tweets\n",
      "Agora vou dormir por 300 segundo se não o Twitter me Flopa\n",
      "coletandoa palavra: #homeoffice\n",
      "Agora vou dormir por 300 segundo se não o Twitter me Flopa\n",
      "coletandoa palavra: #trabalhoremoto\n",
      "Coletamos 200 tweets\n",
      "Agora vou dormir por 300 segundo se não o Twitter me Flopa\n"
     ]
    }
   ],
   "source": [
    "\n",
    "search_words =  ['home office', 'trabalho remoto', '#homeoffice', '#trabalhoremoto']\n",
    "contador  = 1 \n",
    "\n",
    "api = tweepy.API(auth) # Autenticando a Api\n",
    "    \n",
    "    \n",
    "with open ('tweet_info_01.json', 'w+', encoding='utf8') as output: #abrindo um arquivo json para escrita\n",
    "    \n",
    "    #loop no lista de palavras\n",
    "    #para obter cada palabra individualmente e assim fazer as busca no tt\n",
    "    for word in search_words:\n",
    "        print(f'coletandoa palavra: {word}') #pritando a palavra coletada\n",
    "        \n",
    "        #loop enquanto o cursor coleta os dados\n",
    "        for tweet in tweepy.Cursor(api.search, q=word).items(50):\n",
    "            \n",
    "            #usando encode devido a formatação latina com acentos e tbm devido a emojis\n",
    "            json_str = json.dumps(tweet._json, ensure_ascii=False).encode('utf8')\n",
    "            \n",
    "             #salvando o json\n",
    "            output.write('{}\\n'.format(json_str.decode()))\n",
    "            \n",
    "            #daqui pra baixo é só para ter uma noap do que está acontecendo\n",
    "            contador += 1\n",
    "            \n",
    "            if contador % 100 == 0:\n",
    "                print(f'Coletamos {contador} tweets')\n",
    "        \n",
    "        print('Agora vou dormir por 300 segundo se não o Twitter me Flopa')\n",
    "       # time.sleep(300)\n"
   ]
  },
  {
   "cell_type": "code",
   "execution_count": null,
   "metadata": {},
   "outputs": [],
   "source": []
  }
 ],
 "metadata": {
  "kernelspec": {
   "display_name": "Python 3",
   "language": "python",
   "name": "python3"
  },
  "language_info": {
   "codemirror_mode": {
    "name": "ipython",
    "version": 3
   },
   "file_extension": ".py",
   "mimetype": "text/x-python",
   "name": "python",
   "nbconvert_exporter": "python",
   "pygments_lexer": "ipython3",
   "version": "3.7.6"
  }
 },
 "nbformat": 4,
 "nbformat_minor": 4
}
