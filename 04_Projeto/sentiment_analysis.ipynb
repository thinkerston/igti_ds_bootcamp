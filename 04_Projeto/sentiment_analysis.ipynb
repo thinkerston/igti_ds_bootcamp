{
 "cells": [
  {
   "cell_type": "markdown",
   "metadata": {},
   "source": [
    "# Analises em cima dos tweets coletados"
   ]
  },
  {
   "cell_type": "code",
   "execution_count": 82,
   "metadata": {},
   "outputs": [],
   "source": [
    "import pandas as pd\n",
    "import matplotlib\n",
    "\n",
    "import json\n",
    "import numpy as np\n",
    "import textblob\n",
    "\n",
    "from bs4 import BeautifulSoup\n",
    "pd.set_option('max_columns', 35)"
   ]
  },
  {
   "cell_type": "code",
   "execution_count": 53,
   "metadata": {},
   "outputs": [
    {
     "data": {
      "text/plain": [
       "(2336, 30)"
      ]
     },
     "execution_count": 53,
     "metadata": {},
     "output_type": "execute_result"
    }
   ],
   "source": [
    "#carregando os tweets com pandas direto do formato json\n",
    "df_tweets = pd.read_json('tweet_info_01.json', lines=True)\n",
    "\n",
    "#mostando as dimensões da tabela\n",
    "df_tweets.shape"
   ]
  },
  {
   "cell_type": "code",
   "execution_count": 72,
   "metadata": {},
   "outputs": [
    {
     "data": {
      "text/html": [
       "<div>\n",
       "<style scoped>\n",
       "    .dataframe tbody tr th:only-of-type {\n",
       "        vertical-align: middle;\n",
       "    }\n",
       "\n",
       "    .dataframe tbody tr th {\n",
       "        vertical-align: top;\n",
       "    }\n",
       "\n",
       "    .dataframe thead th {\n",
       "        text-align: right;\n",
       "    }\n",
       "</style>\n",
       "<table border=\"1\" class=\"dataframe\">\n",
       "  <thead>\n",
       "    <tr style=\"text-align: right;\">\n",
       "      <th></th>\n",
       "      <th>created_at</th>\n",
       "      <th>id</th>\n",
       "      <th>id_str</th>\n",
       "      <th>text</th>\n",
       "      <th>truncated</th>\n",
       "      <th>entities</th>\n",
       "      <th>metadata</th>\n",
       "      <th>source</th>\n",
       "      <th>in_reply_to_status_id</th>\n",
       "      <th>in_reply_to_status_id_str</th>\n",
       "      <th>in_reply_to_user_id</th>\n",
       "      <th>in_reply_to_user_id_str</th>\n",
       "      <th>in_reply_to_screen_name</th>\n",
       "      <th>user</th>\n",
       "      <th>geo</th>\n",
       "      <th>coordinates</th>\n",
       "      <th>place</th>\n",
       "      <th>contributors</th>\n",
       "      <th>is_quote_status</th>\n",
       "      <th>retweet_count</th>\n",
       "      <th>favorite_count</th>\n",
       "      <th>favorited</th>\n",
       "      <th>retweeted</th>\n",
       "      <th>lang</th>\n",
       "      <th>retweeted_status</th>\n",
       "      <th>possibly_sensitive</th>\n",
       "      <th>extended_entities</th>\n",
       "      <th>quoted_status_id</th>\n",
       "      <th>quoted_status_id_str</th>\n",
       "      <th>quoted_status</th>\n",
       "    </tr>\n",
       "  </thead>\n",
       "  <tbody>\n",
       "    <tr>\n",
       "      <th>0</th>\n",
       "      <td>2020-08-01 01:19:49+00:00</td>\n",
       "      <td>1289370218100338688</td>\n",
       "      <td>1289370218100338688</td>\n",
       "      <td>Home office é vc receber msg no grupo do traba...</td>\n",
       "      <td>False</td>\n",
       "      <td>{'hashtags': [], 'symbols': [], 'user_mentions...</td>\n",
       "      <td>{'iso_language_code': 'pt', 'result_type': 're...</td>\n",
       "      <td>&lt;a href=\"http://twitter.com/download/android\" ...</td>\n",
       "      <td>NaN</td>\n",
       "      <td>NaN</td>\n",
       "      <td>NaN</td>\n",
       "      <td>NaN</td>\n",
       "      <td>None</td>\n",
       "      <td>{'id': 159301902, 'id_str': '159301902', 'name...</td>\n",
       "      <td>None</td>\n",
       "      <td>None</td>\n",
       "      <td>None</td>\n",
       "      <td>NaN</td>\n",
       "      <td>False</td>\n",
       "      <td>0</td>\n",
       "      <td>0</td>\n",
       "      <td>False</td>\n",
       "      <td>False</td>\n",
       "      <td>pt</td>\n",
       "      <td>NaN</td>\n",
       "      <td>NaN</td>\n",
       "      <td>NaN</td>\n",
       "      <td>NaN</td>\n",
       "      <td>NaN</td>\n",
       "      <td>NaN</td>\n",
       "    </tr>\n",
       "    <tr>\n",
       "      <th>1</th>\n",
       "      <td>2020-08-01 01:19:44+00:00</td>\n",
       "      <td>1289370196373774337</td>\n",
       "      <td>1289370196373774336</td>\n",
       "      <td>RT @kuangrf: right–i've figured out how to sen...</td>\n",
       "      <td>False</td>\n",
       "      <td>{'hashtags': [], 'symbols': [], 'user_mentions...</td>\n",
       "      <td>{'iso_language_code': 'en', 'result_type': 're...</td>\n",
       "      <td>&lt;a href=\"http://twitter.com/download/android\" ...</td>\n",
       "      <td>NaN</td>\n",
       "      <td>NaN</td>\n",
       "      <td>NaN</td>\n",
       "      <td>NaN</td>\n",
       "      <td>None</td>\n",
       "      <td>{'id': 791665145344688129, 'id_str': '79166514...</td>\n",
       "      <td>None</td>\n",
       "      <td>None</td>\n",
       "      <td>None</td>\n",
       "      <td>NaN</td>\n",
       "      <td>False</td>\n",
       "      <td>888</td>\n",
       "      <td>0</td>\n",
       "      <td>False</td>\n",
       "      <td>False</td>\n",
       "      <td>en</td>\n",
       "      <td>{'created_at': 'Fri Jul 31 18:47:15 +0000 2020...</td>\n",
       "      <td>0.0</td>\n",
       "      <td>NaN</td>\n",
       "      <td>NaN</td>\n",
       "      <td>NaN</td>\n",
       "      <td>NaN</td>\n",
       "    </tr>\n",
       "    <tr>\n",
       "      <th>2</th>\n",
       "      <td>2020-08-01 01:19:43+00:00</td>\n",
       "      <td>1289370191252434945</td>\n",
       "      <td>1289370191252434944</td>\n",
       "      <td>RT @LauraJaneGrace: Have spent all of July alo...</td>\n",
       "      <td>False</td>\n",
       "      <td>{'hashtags': [], 'symbols': [], 'user_mentions...</td>\n",
       "      <td>{'iso_language_code': 'en', 'result_type': 're...</td>\n",
       "      <td>&lt;a href=\"http://twitter.com/download/iphone\" r...</td>\n",
       "      <td>NaN</td>\n",
       "      <td>NaN</td>\n",
       "      <td>NaN</td>\n",
       "      <td>NaN</td>\n",
       "      <td>None</td>\n",
       "      <td>{'id': 974875354916622337, 'id_str': '97487535...</td>\n",
       "      <td>None</td>\n",
       "      <td>None</td>\n",
       "      <td>None</td>\n",
       "      <td>NaN</td>\n",
       "      <td>False</td>\n",
       "      <td>7</td>\n",
       "      <td>0</td>\n",
       "      <td>False</td>\n",
       "      <td>False</td>\n",
       "      <td>en</td>\n",
       "      <td>{'created_at': 'Fri Jul 31 22:48:35 +0000 2020...</td>\n",
       "      <td>NaN</td>\n",
       "      <td>NaN</td>\n",
       "      <td>NaN</td>\n",
       "      <td>NaN</td>\n",
       "      <td>NaN</td>\n",
       "    </tr>\n",
       "    <tr>\n",
       "      <th>3</th>\n",
       "      <td>2020-08-01 01:19:37+00:00</td>\n",
       "      <td>1289370164908056577</td>\n",
       "      <td>1289370164908056576</td>\n",
       "      <td>aumentaram meu home office por tempo indetermi...</td>\n",
       "      <td>False</td>\n",
       "      <td>{'hashtags': [], 'symbols': [], 'user_mentions...</td>\n",
       "      <td>{'iso_language_code': 'pt', 'result_type': 're...</td>\n",
       "      <td>&lt;a href=\"http://twitter.com/download/iphone\" r...</td>\n",
       "      <td>NaN</td>\n",
       "      <td>NaN</td>\n",
       "      <td>NaN</td>\n",
       "      <td>NaN</td>\n",
       "      <td>None</td>\n",
       "      <td>{'id': 1979201605, 'id_str': '1979201605', 'na...</td>\n",
       "      <td>None</td>\n",
       "      <td>None</td>\n",
       "      <td>None</td>\n",
       "      <td>NaN</td>\n",
       "      <td>False</td>\n",
       "      <td>0</td>\n",
       "      <td>0</td>\n",
       "      <td>False</td>\n",
       "      <td>False</td>\n",
       "      <td>pt</td>\n",
       "      <td>NaN</td>\n",
       "      <td>NaN</td>\n",
       "      <td>NaN</td>\n",
       "      <td>NaN</td>\n",
       "      <td>NaN</td>\n",
       "      <td>NaN</td>\n",
       "    </tr>\n",
       "    <tr>\n",
       "      <th>4</th>\n",
       "      <td>2020-08-01 01:19:34+00:00</td>\n",
       "      <td>1289370154892058624</td>\n",
       "      <td>1289370154892058624</td>\n",
       "      <td>RT @MommyLTLORiley: Cherry 3 Shelf Bookcase Wo...</td>\n",
       "      <td>False</td>\n",
       "      <td>{'hashtags': [], 'symbols': [], 'user_mentions...</td>\n",
       "      <td>{'iso_language_code': 'en', 'result_type': 're...</td>\n",
       "      <td>&lt;a href=\"https://dlvrit.com/\" rel=\"nofollow\"&gt;d...</td>\n",
       "      <td>NaN</td>\n",
       "      <td>NaN</td>\n",
       "      <td>NaN</td>\n",
       "      <td>NaN</td>\n",
       "      <td>None</td>\n",
       "      <td>{'id': 53155646, 'id_str': '53155646', 'name':...</td>\n",
       "      <td>None</td>\n",
       "      <td>None</td>\n",
       "      <td>None</td>\n",
       "      <td>NaN</td>\n",
       "      <td>False</td>\n",
       "      <td>2</td>\n",
       "      <td>0</td>\n",
       "      <td>False</td>\n",
       "      <td>False</td>\n",
       "      <td>en</td>\n",
       "      <td>{'created_at': 'Sun Jul 12 01:18:34 +0000 2020...</td>\n",
       "      <td>0.0</td>\n",
       "      <td>NaN</td>\n",
       "      <td>NaN</td>\n",
       "      <td>NaN</td>\n",
       "      <td>NaN</td>\n",
       "    </tr>\n",
       "  </tbody>\n",
       "</table>\n",
       "</div>"
      ],
      "text/plain": [
       "                 created_at                   id               id_str  \\\n",
       "0 2020-08-01 01:19:49+00:00  1289370218100338688  1289370218100338688   \n",
       "1 2020-08-01 01:19:44+00:00  1289370196373774337  1289370196373774336   \n",
       "2 2020-08-01 01:19:43+00:00  1289370191252434945  1289370191252434944   \n",
       "3 2020-08-01 01:19:37+00:00  1289370164908056577  1289370164908056576   \n",
       "4 2020-08-01 01:19:34+00:00  1289370154892058624  1289370154892058624   \n",
       "\n",
       "                                                text  truncated  \\\n",
       "0  Home office é vc receber msg no grupo do traba...      False   \n",
       "1  RT @kuangrf: right–i've figured out how to sen...      False   \n",
       "2  RT @LauraJaneGrace: Have spent all of July alo...      False   \n",
       "3  aumentaram meu home office por tempo indetermi...      False   \n",
       "4  RT @MommyLTLORiley: Cherry 3 Shelf Bookcase Wo...      False   \n",
       "\n",
       "                                            entities  \\\n",
       "0  {'hashtags': [], 'symbols': [], 'user_mentions...   \n",
       "1  {'hashtags': [], 'symbols': [], 'user_mentions...   \n",
       "2  {'hashtags': [], 'symbols': [], 'user_mentions...   \n",
       "3  {'hashtags': [], 'symbols': [], 'user_mentions...   \n",
       "4  {'hashtags': [], 'symbols': [], 'user_mentions...   \n",
       "\n",
       "                                            metadata  \\\n",
       "0  {'iso_language_code': 'pt', 'result_type': 're...   \n",
       "1  {'iso_language_code': 'en', 'result_type': 're...   \n",
       "2  {'iso_language_code': 'en', 'result_type': 're...   \n",
       "3  {'iso_language_code': 'pt', 'result_type': 're...   \n",
       "4  {'iso_language_code': 'en', 'result_type': 're...   \n",
       "\n",
       "                                              source  in_reply_to_status_id  \\\n",
       "0  <a href=\"http://twitter.com/download/android\" ...                    NaN   \n",
       "1  <a href=\"http://twitter.com/download/android\" ...                    NaN   \n",
       "2  <a href=\"http://twitter.com/download/iphone\" r...                    NaN   \n",
       "3  <a href=\"http://twitter.com/download/iphone\" r...                    NaN   \n",
       "4  <a href=\"https://dlvrit.com/\" rel=\"nofollow\">d...                    NaN   \n",
       "\n",
       "   in_reply_to_status_id_str  in_reply_to_user_id  in_reply_to_user_id_str  \\\n",
       "0                        NaN                  NaN                      NaN   \n",
       "1                        NaN                  NaN                      NaN   \n",
       "2                        NaN                  NaN                      NaN   \n",
       "3                        NaN                  NaN                      NaN   \n",
       "4                        NaN                  NaN                      NaN   \n",
       "\n",
       "  in_reply_to_screen_name                                               user  \\\n",
       "0                    None  {'id': 159301902, 'id_str': '159301902', 'name...   \n",
       "1                    None  {'id': 791665145344688129, 'id_str': '79166514...   \n",
       "2                    None  {'id': 974875354916622337, 'id_str': '97487535...   \n",
       "3                    None  {'id': 1979201605, 'id_str': '1979201605', 'na...   \n",
       "4                    None  {'id': 53155646, 'id_str': '53155646', 'name':...   \n",
       "\n",
       "    geo coordinates place  contributors  is_quote_status  retweet_count  \\\n",
       "0  None        None  None           NaN            False              0   \n",
       "1  None        None  None           NaN            False            888   \n",
       "2  None        None  None           NaN            False              7   \n",
       "3  None        None  None           NaN            False              0   \n",
       "4  None        None  None           NaN            False              2   \n",
       "\n",
       "   favorite_count  favorited  retweeted lang  \\\n",
       "0               0      False      False   pt   \n",
       "1               0      False      False   en   \n",
       "2               0      False      False   en   \n",
       "3               0      False      False   pt   \n",
       "4               0      False      False   en   \n",
       "\n",
       "                                    retweeted_status  possibly_sensitive  \\\n",
       "0                                                NaN                 NaN   \n",
       "1  {'created_at': 'Fri Jul 31 18:47:15 +0000 2020...                 0.0   \n",
       "2  {'created_at': 'Fri Jul 31 22:48:35 +0000 2020...                 NaN   \n",
       "3                                                NaN                 NaN   \n",
       "4  {'created_at': 'Sun Jul 12 01:18:34 +0000 2020...                 0.0   \n",
       "\n",
       "  extended_entities  quoted_status_id  quoted_status_id_str quoted_status  \n",
       "0               NaN               NaN                   NaN           NaN  \n",
       "1               NaN               NaN                   NaN           NaN  \n",
       "2               NaN               NaN                   NaN           NaN  \n",
       "3               NaN               NaN                   NaN           NaN  \n",
       "4               NaN               NaN                   NaN           NaN  "
      ]
     },
     "execution_count": 72,
     "metadata": {},
     "output_type": "execute_result"
    }
   ],
   "source": [
    "#mostrandos os primeiros exemplos\n",
    "#não se assustem com algumas colunas \"bugadas\" da pra acessar os dados dela do mesmo jeito\n",
    "df_tweets.head()"
   ]
  },
  {
   "cell_type": "code",
   "execution_count": 60,
   "metadata": {},
   "outputs": [
    {
     "data": {
      "text/plain": [
       "(999, 30)"
      ]
     },
     "execution_count": 60,
     "metadata": {},
     "output_type": "execute_result"
    }
   ],
   "source": [
    "#pegando apenas conteudo na linguagem pt\n",
    "df_ptlang_tweets = df_tweets[df_tweets['lang'] == 'pt']\n",
    "df_ptlang_tweets.shape"
   ]
  },
  {
   "cell_type": "code",
   "execution_count": 62,
   "metadata": {},
   "outputs": [
    {
     "data": {
      "text/plain": [
       "Index(['created_at', 'id', 'id_str', 'text', 'truncated', 'entities',\n",
       "       'metadata', 'source', 'in_reply_to_status_id',\n",
       "       'in_reply_to_status_id_str', 'in_reply_to_user_id',\n",
       "       'in_reply_to_user_id_str', 'in_reply_to_screen_name', 'user', 'geo',\n",
       "       'coordinates', 'place', 'contributors', 'is_quote_status',\n",
       "       'retweet_count', 'favorite_count', 'favorited', 'retweeted', 'lang',\n",
       "       'retweeted_status', 'possibly_sensitive', 'extended_entities',\n",
       "       'quoted_status_id', 'quoted_status_id_str', 'quoted_status'],\n",
       "      dtype='object')"
      ]
     },
     "execution_count": 62,
     "metadata": {},
     "output_type": "execute_result"
    }
   ],
   "source": [
    "df_ptlang_tweets.columns"
   ]
  },
  {
   "cell_type": "code",
   "execution_count": 70,
   "metadata": {},
   "outputs": [
    {
     "data": {
      "text/html": [
       "<div>\n",
       "<style scoped>\n",
       "    .dataframe tbody tr th:only-of-type {\n",
       "        vertical-align: middle;\n",
       "    }\n",
       "\n",
       "    .dataframe tbody tr th {\n",
       "        vertical-align: top;\n",
       "    }\n",
       "\n",
       "    .dataframe thead th {\n",
       "        text-align: right;\n",
       "    }\n",
       "</style>\n",
       "<table border=\"1\" class=\"dataframe\">\n",
       "  <thead>\n",
       "    <tr style=\"text-align: right;\">\n",
       "      <th></th>\n",
       "      <th>text</th>\n",
       "      <th>favorite_count</th>\n",
       "    </tr>\n",
       "  </thead>\n",
       "  <tbody>\n",
       "    <tr>\n",
       "      <th>1020</th>\n",
       "      <td>Suecos são convocados a permanecer em home off...</td>\n",
       "      <td>584</td>\n",
       "    </tr>\n",
       "    <tr>\n",
       "      <th>1336</th>\n",
       "      <td>@andre_rochadel não é home office, é trabalho ...</td>\n",
       "      <td>349</td>\n",
       "    </tr>\n",
       "    <tr>\n",
       "      <th>834</th>\n",
       "      <td>A diminuição do trabalho remoto em atividades ...</td>\n",
       "      <td>226</td>\n",
       "    </tr>\n",
       "    <tr>\n",
       "      <th>790</th>\n",
       "      <td>#AJustiçaNãoPara ⚖️ Durante o período da pande...</td>\n",
       "      <td>110</td>\n",
       "    </tr>\n",
       "    <tr>\n",
       "      <th>1208</th>\n",
       "      <td>Lembrando que o CNPq suspendeu o trabalho remo...</td>\n",
       "      <td>108</td>\n",
       "    </tr>\n",
       "    <tr>\n",
       "      <th>1268</th>\n",
       "      <td>Reitoria da Uerj prorrogou suspensão de ativid...</td>\n",
       "      <td>102</td>\n",
       "    </tr>\n",
       "    <tr>\n",
       "      <th>1491</th>\n",
       "      <td>Servidor com filho na escola poderá manter tra...</td>\n",
       "      <td>85</td>\n",
       "    </tr>\n",
       "    <tr>\n",
       "      <th>943</th>\n",
       "      <td>💻🖥️| Novas regras para o trabalho remoto são a...</td>\n",
       "      <td>60</td>\n",
       "    </tr>\n",
       "    <tr>\n",
       "      <th>1443</th>\n",
       "      <td>O trabalho remoto beneficia o mercado imobiliá...</td>\n",
       "      <td>56</td>\n",
       "    </tr>\n",
       "    <tr>\n",
       "      <th>1132</th>\n",
       "      <td>@hilde_angel Fica na Praça dos Três Poderes no...</td>\n",
       "      <td>51</td>\n",
       "    </tr>\n",
       "  </tbody>\n",
       "</table>\n",
       "</div>"
      ],
      "text/plain": [
       "                                                   text  favorite_count\n",
       "1020  Suecos são convocados a permanecer em home off...             584\n",
       "1336  @andre_rochadel não é home office, é trabalho ...             349\n",
       "834   A diminuição do trabalho remoto em atividades ...             226\n",
       "790   #AJustiçaNãoPara ⚖️ Durante o período da pande...             110\n",
       "1208  Lembrando que o CNPq suspendeu o trabalho remo...             108\n",
       "1268  Reitoria da Uerj prorrogou suspensão de ativid...             102\n",
       "1491  Servidor com filho na escola poderá manter tra...              85\n",
       "943   💻🖥️| Novas regras para o trabalho remoto são a...              60\n",
       "1443  O trabalho remoto beneficia o mercado imobiliá...              56\n",
       "1132  @hilde_angel Fica na Praça dos Três Poderes no...              51"
      ]
     },
     "execution_count": 70,
     "metadata": {},
     "output_type": "execute_result"
    }
   ],
   "source": [
    "df_most_favorite = df_ptlang_tweets.sort_values('favorite_count', ascending=False)\n",
    "df_most_favorite[['text', 'favorite_count']].head(10)"
   ]
  },
  {
   "cell_type": "code",
   "execution_count": 73,
   "metadata": {},
   "outputs": [
    {
     "data": {
      "text/html": [
       "<div>\n",
       "<style scoped>\n",
       "    .dataframe tbody tr th:only-of-type {\n",
       "        vertical-align: middle;\n",
       "    }\n",
       "\n",
       "    .dataframe tbody tr th {\n",
       "        vertical-align: top;\n",
       "    }\n",
       "\n",
       "    .dataframe thead th {\n",
       "        text-align: right;\n",
       "    }\n",
       "</style>\n",
       "<table border=\"1\" class=\"dataframe\">\n",
       "  <thead>\n",
       "    <tr style=\"text-align: right;\">\n",
       "      <th></th>\n",
       "      <th>text</th>\n",
       "      <th>retweet_count</th>\n",
       "    </tr>\n",
       "  </thead>\n",
       "  <tbody>\n",
       "    <tr>\n",
       "      <th>393</th>\n",
       "      <td>RT @giordanelages: Será que ninguém tem um emp...</td>\n",
       "      <td>407</td>\n",
       "    </tr>\n",
       "    <tr>\n",
       "      <th>143</th>\n",
       "      <td>RT @giordanelages: Será que ninguém tem um emp...</td>\n",
       "      <td>406</td>\n",
       "    </tr>\n",
       "    <tr>\n",
       "      <th>178</th>\n",
       "      <td>RT @giordanelages: Será que ninguém tem um emp...</td>\n",
       "      <td>406</td>\n",
       "    </tr>\n",
       "    <tr>\n",
       "      <th>85</th>\n",
       "      <td>RT @giordanelages: Será que ninguém tem um emp...</td>\n",
       "      <td>406</td>\n",
       "    </tr>\n",
       "    <tr>\n",
       "      <th>912</th>\n",
       "      <td>RT @HugoRoger: Empresas oferecendo ótimas opor...</td>\n",
       "      <td>358</td>\n",
       "    </tr>\n",
       "    <tr>\n",
       "      <th>1473</th>\n",
       "      <td>RT @PriWi: Procura-se Ilustradora assistente (...</td>\n",
       "      <td>253</td>\n",
       "    </tr>\n",
       "    <tr>\n",
       "      <th>70</th>\n",
       "      <td>RT @MelhemSaad: Lembrem que o STF já decidiu q...</td>\n",
       "      <td>39</td>\n",
       "    </tr>\n",
       "    <tr>\n",
       "      <th>238</th>\n",
       "      <td>RT @MelhemSaad: Lembrem que o STF já decidiu q...</td>\n",
       "      <td>39</td>\n",
       "    </tr>\n",
       "    <tr>\n",
       "      <th>718</th>\n",
       "      <td>RT @MelhemSaad: Lembrem que o STF já decidiu q...</td>\n",
       "      <td>39</td>\n",
       "    </tr>\n",
       "    <tr>\n",
       "      <th>174</th>\n",
       "      <td>RT @MelhemSaad: Lembrem que o STF já decidiu q...</td>\n",
       "      <td>39</td>\n",
       "    </tr>\n",
       "  </tbody>\n",
       "</table>\n",
       "</div>"
      ],
      "text/plain": [
       "                                                   text  retweet_count\n",
       "393   RT @giordanelages: Será que ninguém tem um emp...            407\n",
       "143   RT @giordanelages: Será que ninguém tem um emp...            406\n",
       "178   RT @giordanelages: Será que ninguém tem um emp...            406\n",
       "85    RT @giordanelages: Será que ninguém tem um emp...            406\n",
       "912   RT @HugoRoger: Empresas oferecendo ótimas opor...            358\n",
       "1473  RT @PriWi: Procura-se Ilustradora assistente (...            253\n",
       "70    RT @MelhemSaad: Lembrem que o STF já decidiu q...             39\n",
       "238   RT @MelhemSaad: Lembrem que o STF já decidiu q...             39\n",
       "718   RT @MelhemSaad: Lembrem que o STF já decidiu q...             39\n",
       "174   RT @MelhemSaad: Lembrem que o STF já decidiu q...             39"
      ]
     },
     "execution_count": 73,
     "metadata": {},
     "output_type": "execute_result"
    }
   ],
   "source": [
    "#Não sei rick, me parece que coisa errada ai\n",
    "#merece uma melhor\n",
    "df_most_retweet = df_ptlang_tweets.sort_values('retweet_count', ascending=False)\n",
    "df_most_retweet[['text', 'retweet_count']].head(10)"
   ]
  },
  {
   "cell_type": "code",
   "execution_count": 75,
   "metadata": {},
   "outputs": [
    {
     "data": {
      "text/html": [
       "<div>\n",
       "<style scoped>\n",
       "    .dataframe tbody tr th:only-of-type {\n",
       "        vertical-align: middle;\n",
       "    }\n",
       "\n",
       "    .dataframe tbody tr th {\n",
       "        vertical-align: top;\n",
       "    }\n",
       "\n",
       "    .dataframe thead th {\n",
       "        text-align: right;\n",
       "    }\n",
       "</style>\n",
       "<table border=\"1\" class=\"dataframe\">\n",
       "  <thead>\n",
       "    <tr style=\"text-align: right;\">\n",
       "      <th></th>\n",
       "      <th>text</th>\n",
       "      <th>favorite_count</th>\n",
       "      <th>retweet_count</th>\n",
       "    </tr>\n",
       "  </thead>\n",
       "  <tbody>\n",
       "    <tr>\n",
       "      <th>1020</th>\n",
       "      <td>Suecos são convocados a permanecer em home off...</td>\n",
       "      <td>584</td>\n",
       "      <td>27</td>\n",
       "    </tr>\n",
       "    <tr>\n",
       "      <th>1336</th>\n",
       "      <td>@andre_rochadel não é home office, é trabalho ...</td>\n",
       "      <td>349</td>\n",
       "      <td>4</td>\n",
       "    </tr>\n",
       "    <tr>\n",
       "      <th>834</th>\n",
       "      <td>A diminuição do trabalho remoto em atividades ...</td>\n",
       "      <td>226</td>\n",
       "      <td>20</td>\n",
       "    </tr>\n",
       "    <tr>\n",
       "      <th>790</th>\n",
       "      <td>#AJustiçaNãoPara ⚖️ Durante o período da pande...</td>\n",
       "      <td>110</td>\n",
       "      <td>15</td>\n",
       "    </tr>\n",
       "    <tr>\n",
       "      <th>1208</th>\n",
       "      <td>Lembrando que o CNPq suspendeu o trabalho remo...</td>\n",
       "      <td>108</td>\n",
       "      <td>33</td>\n",
       "    </tr>\n",
       "    <tr>\n",
       "      <th>1268</th>\n",
       "      <td>Reitoria da Uerj prorrogou suspensão de ativid...</td>\n",
       "      <td>102</td>\n",
       "      <td>13</td>\n",
       "    </tr>\n",
       "    <tr>\n",
       "      <th>1491</th>\n",
       "      <td>Servidor com filho na escola poderá manter tra...</td>\n",
       "      <td>85</td>\n",
       "      <td>5</td>\n",
       "    </tr>\n",
       "    <tr>\n",
       "      <th>943</th>\n",
       "      <td>💻🖥️| Novas regras para o trabalho remoto são a...</td>\n",
       "      <td>60</td>\n",
       "      <td>23</td>\n",
       "    </tr>\n",
       "    <tr>\n",
       "      <th>1443</th>\n",
       "      <td>O trabalho remoto beneficia o mercado imobiliá...</td>\n",
       "      <td>56</td>\n",
       "      <td>5</td>\n",
       "    </tr>\n",
       "    <tr>\n",
       "      <th>1132</th>\n",
       "      <td>@hilde_angel Fica na Praça dos Três Poderes no...</td>\n",
       "      <td>51</td>\n",
       "      <td>3</td>\n",
       "    </tr>\n",
       "  </tbody>\n",
       "</table>\n",
       "</div>"
      ],
      "text/plain": [
       "                                                   text  favorite_count  \\\n",
       "1020  Suecos são convocados a permanecer em home off...             584   \n",
       "1336  @andre_rochadel não é home office, é trabalho ...             349   \n",
       "834   A diminuição do trabalho remoto em atividades ...             226   \n",
       "790   #AJustiçaNãoPara ⚖️ Durante o período da pande...             110   \n",
       "1208  Lembrando que o CNPq suspendeu o trabalho remo...             108   \n",
       "1268  Reitoria da Uerj prorrogou suspensão de ativid...             102   \n",
       "1491  Servidor com filho na escola poderá manter tra...              85   \n",
       "943   💻🖥️| Novas regras para o trabalho remoto são a...              60   \n",
       "1443  O trabalho remoto beneficia o mercado imobiliá...              56   \n",
       "1132  @hilde_angel Fica na Praça dos Três Poderes no...              51   \n",
       "\n",
       "      retweet_count  \n",
       "1020             27  \n",
       "1336              4  \n",
       "834              20  \n",
       "790              15  \n",
       "1208             33  \n",
       "1268             13  \n",
       "1491              5  \n",
       "943              23  \n",
       "1443              5  \n",
       "1132              3  "
      ]
     },
     "execution_count": 75,
     "metadata": {},
     "output_type": "execute_result"
    }
   ],
   "source": [
    "df_most_all = df_ptlang_tweets.sort_values(['favorite_count', 'retweet_count'], ascending=False)\n",
    "df_most_all[['text', 'favorite_count', 'retweet_count']].head(10)"
   ]
  },
  {
   "cell_type": "code",
   "execution_count": 77,
   "metadata": {},
   "outputs": [
    {
     "data": {
      "text/plain": [
       "{'id': 159301902,\n",
       " 'id_str': '159301902',\n",
       " 'name': '🐢TarTorugo ☭🇧🇷🚩',\n",
       " 'screen_name': 'TarTorugo',\n",
       " 'location': 'Viciosa',\n",
       " 'description': 'Cientista Social casas Bahia e favela, sou!                   \\nRede das lamentações.\\n🔺✊🏿🏳️\\u200d🌈👨🏿\\u200d🤝\\u200d👨🏾📚⬅️✌🏿🦁🦊💭',\n",
       " 'url': None,\n",
       " 'entities': {'description': {'urls': []}},\n",
       " 'protected': False,\n",
       " 'followers_count': 385,\n",
       " 'friends_count': 539,\n",
       " 'listed_count': 39,\n",
       " 'created_at': 'Fri Jun 25 00:57:07 +0000 2010',\n",
       " 'favourites_count': 17239,\n",
       " 'utc_offset': None,\n",
       " 'time_zone': None,\n",
       " 'geo_enabled': True,\n",
       " 'verified': False,\n",
       " 'statuses_count': 9832,\n",
       " 'lang': None,\n",
       " 'contributors_enabled': False,\n",
       " 'is_translator': False,\n",
       " 'is_translation_enabled': False,\n",
       " 'profile_background_color': 'C0DEED',\n",
       " 'profile_background_image_url': 'http://abs.twimg.com/images/themes/theme1/bg.png',\n",
       " 'profile_background_image_url_https': 'https://abs.twimg.com/images/themes/theme1/bg.png',\n",
       " 'profile_background_tile': True,\n",
       " 'profile_image_url': 'http://pbs.twimg.com/profile_images/1278088483119267842/WOxt6Zvj_normal.jpg',\n",
       " 'profile_image_url_https': 'https://pbs.twimg.com/profile_images/1278088483119267842/WOxt6Zvj_normal.jpg',\n",
       " 'profile_banner_url': 'https://pbs.twimg.com/profile_banners/159301902/1563588986',\n",
       " 'profile_link_color': '0084B4',\n",
       " 'profile_sidebar_border_color': '000000',\n",
       " 'profile_sidebar_fill_color': 'DDEEF6',\n",
       " 'profile_text_color': '333333',\n",
       " 'profile_use_background_image': True,\n",
       " 'has_extended_profile': False,\n",
       " 'default_profile': False,\n",
       " 'default_profile_image': False,\n",
       " 'following': False,\n",
       " 'follow_request_sent': False,\n",
       " 'notifications': False,\n",
       " 'translator_type': 'none'}"
      ]
     },
     "execution_count": 77,
     "metadata": {},
     "output_type": "execute_result"
    }
   ],
   "source": [
    "df_ptlang_tweets['user'][0]"
   ]
  },
  {
   "cell_type": "code",
   "execution_count": 81,
   "metadata": {},
   "outputs": [
    {
     "data": {
      "text/plain": [
       "0       <a href=\"http://twitter.com/download/android\" ...\n",
       "3       <a href=\"http://twitter.com/download/iphone\" r...\n",
       "10      <a href=\"http://twitter.com/download/iphone\" r...\n",
       "13      <a href=\"http://twitter.com/download/android\" ...\n",
       "16      <a href=\"http://twitter.com/download/iphone\" r...\n",
       "                              ...                        \n",
       "2331    <a href=\"https://mobile.twitter.com\" rel=\"nofo...\n",
       "2332    <a href=\"http://rdstation.com.br\" rel=\"nofollo...\n",
       "2333    <a href=\"https://mobile.twitter.com\" rel=\"nofo...\n",
       "2334    <a href=\"https://getbambu.com\" rel=\"nofollow\">...\n",
       "2335    <a href=\"https://www.hootsuite.com\" rel=\"nofol...\n",
       "Name: source, Length: 999, dtype: object"
      ]
     },
     "execution_count": 81,
     "metadata": {},
     "output_type": "execute_result"
    }
   ],
   "source": [
    "df_ptlang_tweets['source']"
   ]
  },
  {
   "cell_type": "code",
   "execution_count": 94,
   "metadata": {},
   "outputs": [],
   "source": [
    "bs = BeautifulSoup(df_ptlang_tweets['source'][0])"
   ]
  },
  {
   "cell_type": "code",
   "execution_count": 95,
   "metadata": {},
   "outputs": [
    {
     "data": {
      "text/plain": [
       "<html><body><a href=\"http://twitter.com/download/android\" rel=\"nofollow\">Twitter for Android</a></body></html>"
      ]
     },
     "execution_count": 95,
     "metadata": {},
     "output_type": "execute_result"
    }
   ],
   "source": [
    "bs"
   ]
  },
  {
   "cell_type": "code",
   "execution_count": null,
   "metadata": {},
   "outputs": [],
   "source": []
  },
  {
   "cell_type": "code",
   "execution_count": null,
   "metadata": {},
   "outputs": [],
   "source": []
  },
  {
   "cell_type": "code",
   "execution_count": null,
   "metadata": {},
   "outputs": [],
   "source": []
  },
  {
   "cell_type": "code",
   "execution_count": null,
   "metadata": {},
   "outputs": [],
   "source": []
  },
  {
   "cell_type": "code",
   "execution_count": null,
   "metadata": {},
   "outputs": [],
   "source": []
  },
  {
   "cell_type": "code",
   "execution_count": 24,
   "metadata": {},
   "outputs": [
    {
     "data": {
      "text/plain": [
       "1594260000000.0"
      ]
     },
     "execution_count": 24,
     "metadata": {},
     "output_type": "execute_result"
    }
   ],
   "source": [
    "1.59426E+12"
   ]
  },
  {
   "cell_type": "code",
   "execution_count": 43,
   "metadata": {},
   "outputs": [
    {
     "name": "stdout",
     "output_type": "stream",
     "text": [
      "2020-07-09 02:00:00\n"
     ]
    }
   ],
   "source": [
    "from datetime import datetime\n",
    "ts = int(1594260000)\n",
    "\n",
    "print(datetime.utcfromtimestamp(ts).strftime('%Y-%m-%d %H:%M:%S'))"
   ]
  },
  {
   "cell_type": "code",
   "execution_count": null,
   "metadata": {},
   "outputs": [],
   "source": []
  },
  {
   "cell_type": "code",
   "execution_count": null,
   "metadata": {},
   "outputs": [],
   "source": []
  },
  {
   "cell_type": "code",
   "execution_count": null,
   "metadata": {},
   "outputs": [],
   "source": []
  },
  {
   "cell_type": "code",
   "execution_count": 34,
   "metadata": {},
   "outputs": [],
   "source": [
    "import time"
   ]
  },
  {
   "cell_type": "code",
   "execution_count": 35,
   "metadata": {},
   "outputs": [
    {
     "data": {
      "text/plain": [
       "1596246391.5301511"
      ]
     },
     "execution_count": 35,
     "metadata": {},
     "output_type": "execute_result"
    }
   ],
   "source": [
    "time.time()"
   ]
  },
  {
   "cell_type": "code",
   "execution_count": 38,
   "metadata": {},
   "outputs": [
    {
     "ename": "TypeError",
     "evalue": "Tuple or struct_time argument required",
     "output_type": "error",
     "traceback": [
      "\u001b[0;31m---------------------------------------------------------------------------\u001b[0m",
      "\u001b[0;31mTypeError\u001b[0m                                 Traceback (most recent call last)",
      "\u001b[0;32m<ipython-input-38-17b5bba6bdbd>\u001b[0m in \u001b[0;36m<module>\u001b[0;34m\u001b[0m\n\u001b[0;32m----> 1\u001b[0;31m \u001b[0mtime\u001b[0m\u001b[0;34m.\u001b[0m\u001b[0masctime\u001b[0m\u001b[0;34m(\u001b[0m\u001b[0;34m[\u001b[0m\u001b[0;36m1596246391.5301511\u001b[0m\u001b[0;34m]\u001b[0m\u001b[0;34m)\u001b[0m\u001b[0;34m\u001b[0m\u001b[0;34m\u001b[0m\u001b[0m\n\u001b[0m",
      "\u001b[0;31mTypeError\u001b[0m: Tuple or struct_time argument required"
     ]
    }
   ],
   "source": [
    "time.asctime([1596246391.5301511])"
   ]
  },
  {
   "cell_type": "code",
   "execution_count": null,
   "metadata": {},
   "outputs": [],
   "source": []
  },
  {
   "cell_type": "code",
   "execution_count": null,
   "metadata": {},
   "outputs": [],
   "source": []
  }
 ],
 "metadata": {
  "kernelspec": {
   "display_name": "Python 3",
   "language": "python",
   "name": "python3"
  },
  "language_info": {
   "codemirror_mode": {
    "name": "ipython",
    "version": 3
   },
   "file_extension": ".py",
   "mimetype": "text/x-python",
   "name": "python",
   "nbconvert_exporter": "python",
   "pygments_lexer": "ipython3",
   "version": "3.7.6"
  }
 },
 "nbformat": 4,
 "nbformat_minor": 4
}
